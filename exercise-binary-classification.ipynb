{
 "cells": [
  {
   "cell_type": "markdown",
   "id": "49d32b14",
   "metadata": {
    "papermill": {
     "duration": 0.005754,
     "end_time": "2024-09-10T18:37:57.259655",
     "exception": false,
     "start_time": "2024-09-10T18:37:57.253901",
     "status": "completed"
    },
    "tags": []
   },
   "source": [
    "**This notebook is an exercise in the [Intro to Deep Learning](https://www.kaggle.com/learn/intro-to-deep-learning) course.  You can reference the tutorial at [this link](https://www.kaggle.com/ryanholbrook/binary-classification).**\n",
    "\n",
    "---\n"
   ]
  },
  {
   "cell_type": "markdown",
   "id": "ff40f7e0",
   "metadata": {
    "papermill": {
     "duration": 0.004791,
     "end_time": "2024-09-10T18:37:57.270031",
     "exception": false,
     "start_time": "2024-09-10T18:37:57.265240",
     "status": "completed"
    },
    "tags": []
   },
   "source": [
    "# Introduction #\n",
    "\n",
    "In this exercise, you'll build a model to predict hotel cancellations with a binary classifier."
   ]
  },
  {
   "cell_type": "code",
   "execution_count": 1,
   "id": "e85f27f8",
   "metadata": {
    "execution": {
     "iopub.execute_input": "2024-09-10T18:37:57.282251Z",
     "iopub.status.busy": "2024-09-10T18:37:57.281576Z",
     "iopub.status.idle": "2024-09-10T18:37:58.112109Z",
     "shell.execute_reply": "2024-09-10T18:37:58.111211Z"
    },
    "lines_to_next_cell": 0,
    "papermill": {
     "duration": 0.839555,
     "end_time": "2024-09-10T18:37:58.114643",
     "exception": false,
     "start_time": "2024-09-10T18:37:57.275088",
     "status": "completed"
    },
    "tags": []
   },
   "outputs": [
    {
     "name": "stderr",
     "output_type": "stream",
     "text": [
      "/tmp/ipykernel_26/3338970720.py:3: MatplotlibDeprecationWarning: The seaborn styles shipped by Matplotlib are deprecated since 3.6, as they no longer correspond to the styles shipped by seaborn. However, they will remain available as 'seaborn-v0_8-<style>'. Alternatively, directly use the seaborn API instead.\n",
      "  plt.style.use('seaborn-whitegrid')\n"
     ]
    }
   ],
   "source": [
    "# Setup plotting\n",
    "import matplotlib.pyplot as plt\n",
    "plt.style.use('seaborn-whitegrid')\n",
    "# Set Matplotlib defaults\n",
    "plt.rc('figure', autolayout=True)\n",
    "plt.rc('axes', labelweight='bold', labelsize='large',\n",
    "       titleweight='bold', titlesize=18, titlepad=10)\n",
    "plt.rc('animation', html='html5')\n",
    "\n",
    "# Setup feedback system\n",
    "from learntools.core import binder\n",
    "binder.bind(globals())\n",
    "from learntools.deep_learning_intro.ex6 import *"
   ]
  },
  {
   "cell_type": "markdown",
   "id": "44551991",
   "metadata": {
    "papermill": {
     "duration": 0.004895,
     "end_time": "2024-09-10T18:37:58.124725",
     "exception": false,
     "start_time": "2024-09-10T18:37:58.119830",
     "status": "completed"
    },
    "tags": []
   },
   "source": [
    "First, load the *Hotel Cancellations* dataset."
   ]
  },
  {
   "cell_type": "code",
   "execution_count": 2,
   "id": "20b7f2cd",
   "metadata": {
    "execution": {
     "iopub.execute_input": "2024-09-10T18:37:58.136600Z",
     "iopub.status.busy": "2024-09-10T18:37:58.136097Z",
     "iopub.status.idle": "2024-09-10T18:38:00.967082Z",
     "shell.execute_reply": "2024-09-10T18:38:00.966279Z"
    },
    "lines_to_next_cell": 2,
    "papermill": {
     "duration": 2.839686,
     "end_time": "2024-09-10T18:38:00.969609",
     "exception": false,
     "start_time": "2024-09-10T18:37:58.129923",
     "status": "completed"
    },
    "tags": []
   },
   "outputs": [],
   "source": [
    "import pandas as pd\n",
    "\n",
    "from sklearn.model_selection import train_test_split\n",
    "from sklearn.preprocessing import StandardScaler, OneHotEncoder\n",
    "from sklearn.impute import SimpleImputer\n",
    "from sklearn.pipeline import make_pipeline\n",
    "from sklearn.compose import make_column_transformer\n",
    "\n",
    "hotel = pd.read_csv('../input/dl-course-data/hotel.csv')\n",
    "\n",
    "X = hotel.copy()\n",
    "y = X.pop('is_canceled')\n",
    "\n",
    "X['arrival_date_month'] = \\\n",
    "    X['arrival_date_month'].map(\n",
    "        {'January':1, 'February': 2, 'March':3,\n",
    "         'April':4, 'May':5, 'June':6, 'July':7,\n",
    "         'August':8, 'September':9, 'October':10,\n",
    "         'November':11, 'December':12}\n",
    "    )\n",
    "\n",
    "features_num = [\n",
    "    \"lead_time\", \"arrival_date_week_number\",\n",
    "    \"arrival_date_day_of_month\", \"stays_in_weekend_nights\",\n",
    "    \"stays_in_week_nights\", \"adults\", \"children\", \"babies\",\n",
    "    \"is_repeated_guest\", \"previous_cancellations\",\n",
    "    \"previous_bookings_not_canceled\", \"required_car_parking_spaces\",\n",
    "    \"total_of_special_requests\", \"adr\",\n",
    "]\n",
    "features_cat = [\n",
    "    \"hotel\", \"arrival_date_month\", \"meal\",\n",
    "    \"market_segment\", \"distribution_channel\",\n",
    "    \"reserved_room_type\", \"deposit_type\", \"customer_type\",\n",
    "]\n",
    "\n",
    "transformer_num = make_pipeline(\n",
    "    SimpleImputer(strategy=\"constant\"), # there are a few missing values\n",
    "    StandardScaler(),\n",
    ")\n",
    "transformer_cat = make_pipeline(\n",
    "    SimpleImputer(strategy=\"constant\", fill_value=\"NA\"),\n",
    "    OneHotEncoder(handle_unknown='ignore'),\n",
    ")\n",
    "\n",
    "preprocessor = make_column_transformer(\n",
    "    (transformer_num, features_num),\n",
    "    (transformer_cat, features_cat),\n",
    ")\n",
    "\n",
    "# stratify - make sure classes are evenlly represented across splits\n",
    "X_train, X_valid, y_train, y_valid = \\\n",
    "    train_test_split(X, y, stratify=y, train_size=0.75)\n",
    "\n",
    "X_train = preprocessor.fit_transform(X_train)\n",
    "X_valid = preprocessor.transform(X_valid)\n",
    "\n",
    "input_shape = [X_train.shape[1]]"
   ]
  },
  {
   "cell_type": "markdown",
   "id": "b36da05a",
   "metadata": {
    "papermill": {
     "duration": 0.005131,
     "end_time": "2024-09-10T18:38:00.979943",
     "exception": false,
     "start_time": "2024-09-10T18:38:00.974812",
     "status": "completed"
    },
    "tags": []
   },
   "source": [
    "# 1) Define Model #\n",
    "\n",
    "The model we'll use this time will have both batch normalization and dropout layers. To ease reading we've broken the diagram into blocks, but you can define it layer by layer as usual.\n",
    "\n",
    "Define a model with an architecture given by this diagram:\n",
    "\n",
    "<figure style=\"padding: 1em;\">\n",
    "<img src=\"https://storage.googleapis.com/kaggle-media/learn/images/V04o59Z.png\" width=\"400\" alt=\"Diagram of network architecture: BatchNorm, Dense, BatchNorm, Dropout, Dense, BatchNorm, Dropout, Dense.\">\n",
    "<figcaption style=\"textalign: center; font-style: italic\"><center>Diagram of a binary classifier.</center></figcaption>\n",
    "</figure>\n"
   ]
  },
  {
   "cell_type": "code",
   "execution_count": 3,
   "id": "0710f307",
   "metadata": {
    "execution": {
     "iopub.execute_input": "2024-09-10T18:38:00.991996Z",
     "iopub.status.busy": "2024-09-10T18:38:00.991297Z",
     "iopub.status.idle": "2024-09-10T18:38:15.758424Z",
     "shell.execute_reply": "2024-09-10T18:38:15.757388Z"
    },
    "lines_to_next_cell": 2,
    "papermill": {
     "duration": 14.775318,
     "end_time": "2024-09-10T18:38:15.760459",
     "exception": false,
     "start_time": "2024-09-10T18:38:00.985141",
     "status": "completed"
    },
    "tags": []
   },
   "outputs": [
    {
     "name": "stderr",
     "output_type": "stream",
     "text": [
      "2024-09-10 18:38:02.855723: E external/local_xla/xla/stream_executor/cuda/cuda_dnn.cc:9261] Unable to register cuDNN factory: Attempting to register factory for plugin cuDNN when one has already been registered\n",
      "2024-09-10 18:38:02.855848: E external/local_xla/xla/stream_executor/cuda/cuda_fft.cc:607] Unable to register cuFFT factory: Attempting to register factory for plugin cuFFT when one has already been registered\n",
      "2024-09-10 18:38:03.001030: E external/local_xla/xla/stream_executor/cuda/cuda_blas.cc:1515] Unable to register cuBLAS factory: Attempting to register factory for plugin cuBLAS when one has already been registered\n"
     ]
    },
    {
     "data": {
      "application/javascript": [
       "parent.postMessage({\"jupyterEvent\": \"custom.exercise_interaction\", \"data\": {\"outcomeType\": 1, \"valueTowardsCompletion\": 0.3333333333333333, \"interactionType\": 1, \"questionType\": 2, \"questionId\": \"1_Q1\", \"learnToolsVersion\": \"0.3.4\", \"failureMessage\": \"\", \"exceptionClass\": \"\", \"trace\": \"\"}}, \"*\")"
      ],
      "text/plain": [
       "<IPython.core.display.Javascript object>"
      ]
     },
     "metadata": {},
     "output_type": "display_data"
    },
    {
     "data": {
      "text/markdown": [
       "<span style=\"color:#33cc33\">Correct</span>"
      ],
      "text/plain": [
       "Correct"
      ]
     },
     "metadata": {},
     "output_type": "display_data"
    }
   ],
   "source": [
    "from tensorflow import keras\n",
    "from tensorflow.keras import layers\n",
    "\n",
    "# YOUR CODE HERE: define the model given in the diagram\n",
    "model = keras.Sequential([\n",
    "    layers.BatchNormalization(input_shape=input_shape),\n",
    "    layers.Dense(256, activation='relu'),\n",
    "    layers.BatchNormalization(),\n",
    "    layers.Dropout(0.3),\n",
    "    layers.Dense(256, activation='relu'),\n",
    "    layers.BatchNormalization(),\n",
    "    layers.Dropout(0.3),\n",
    "    layers.Dense(1, activation='sigmoid')\n",
    "])\n",
    "\n",
    "# Check your answer\n",
    "q_1.check()"
   ]
  },
  {
   "cell_type": "markdown",
   "id": "17bfba86",
   "metadata": {
    "papermill": {
     "duration": 0.005501,
     "end_time": "2024-09-10T18:38:15.771459",
     "exception": false,
     "start_time": "2024-09-10T18:38:15.765958",
     "status": "completed"
    },
    "tags": []
   },
   "source": [
    "# 2) Add Optimizer, Loss, and Metric #\n",
    "\n",
    "Now compile the model with the Adam optimizer and binary versions of the cross-entropy loss and accuracy metric."
   ]
  },
  {
   "cell_type": "code",
   "execution_count": 4,
   "id": "5041ce4e",
   "metadata": {
    "execution": {
     "iopub.execute_input": "2024-09-10T18:38:15.784231Z",
     "iopub.status.busy": "2024-09-10T18:38:15.783871Z",
     "iopub.status.idle": "2024-09-10T18:38:15.810230Z",
     "shell.execute_reply": "2024-09-10T18:38:15.809200Z"
    },
    "lines_to_next_cell": 0,
    "papermill": {
     "duration": 0.035406,
     "end_time": "2024-09-10T18:38:15.812486",
     "exception": false,
     "start_time": "2024-09-10T18:38:15.777080",
     "status": "completed"
    },
    "tags": []
   },
   "outputs": [
    {
     "data": {
      "application/javascript": [
       "parent.postMessage({\"jupyterEvent\": \"custom.exercise_interaction\", \"data\": {\"outcomeType\": 1, \"valueTowardsCompletion\": 0.3333333333333333, \"interactionType\": 1, \"questionType\": 2, \"questionId\": \"2_Q2\", \"learnToolsVersion\": \"0.3.4\", \"failureMessage\": \"\", \"exceptionClass\": \"\", \"trace\": \"\"}}, \"*\")"
      ],
      "text/plain": [
       "<IPython.core.display.Javascript object>"
      ]
     },
     "metadata": {},
     "output_type": "display_data"
    },
    {
     "data": {
      "text/markdown": [
       "<span style=\"color:#33cc33\">Correct</span>"
      ],
      "text/plain": [
       "Correct"
      ]
     },
     "metadata": {},
     "output_type": "display_data"
    }
   ],
   "source": [
    "# YOUR CODE HERE\n",
    "model.compile(\n",
    "    optimizer=\"adam\",\n",
    "    loss='binary_crossentropy',\n",
    "    metrics=['binary_accuracy'],\n",
    ")\n",
    "\n",
    "# Check your answer\n",
    "q_2.check()"
   ]
  },
  {
   "cell_type": "code",
   "execution_count": 5,
   "id": "cf2930eb",
   "metadata": {
    "execution": {
     "iopub.execute_input": "2024-09-10T18:38:15.825912Z",
     "iopub.status.busy": "2024-09-10T18:38:15.825191Z",
     "iopub.status.idle": "2024-09-10T18:38:15.829247Z",
     "shell.execute_reply": "2024-09-10T18:38:15.828266Z"
    },
    "lines_to_next_cell": 0,
    "papermill": {
     "duration": 0.01312,
     "end_time": "2024-09-10T18:38:15.831295",
     "exception": false,
     "start_time": "2024-09-10T18:38:15.818175",
     "status": "completed"
    },
    "tags": []
   },
   "outputs": [],
   "source": [
    "# Lines below will give you a hint or solution code\n",
    "#q_2.hint()\n",
    "#q_2.solution()"
   ]
  },
  {
   "cell_type": "markdown",
   "id": "d803f368",
   "metadata": {
    "papermill": {
     "duration": 0.005426,
     "end_time": "2024-09-10T18:38:15.842265",
     "exception": false,
     "start_time": "2024-09-10T18:38:15.836839",
     "status": "completed"
    },
    "tags": []
   },
   "source": [
    "Finally, run this cell to train the model and view the learning curves. It may run for around 60 to 70 epochs, which could take a minute or two."
   ]
  },
  {
   "cell_type": "code",
   "execution_count": 6,
   "id": "980cafef",
   "metadata": {
    "execution": {
     "iopub.execute_input": "2024-09-10T18:38:15.854754Z",
     "iopub.status.busy": "2024-09-10T18:38:15.854442Z",
     "iopub.status.idle": "2024-09-10T18:39:09.184067Z",
     "shell.execute_reply": "2024-09-10T18:39:09.182982Z"
    },
    "papermill": {
     "duration": 53.339227,
     "end_time": "2024-09-10T18:39:09.186984",
     "exception": false,
     "start_time": "2024-09-10T18:38:15.847757",
     "status": "completed"
    },
    "tags": []
   },
   "outputs": [
    {
     "name": "stdout",
     "output_type": "stream",
     "text": [
      "Epoch 1/200\n"
     ]
    },
    {
     "name": "stderr",
     "output_type": "stream",
     "text": [
      "WARNING: All log messages before absl::InitializeLog() is called are written to STDERR\n",
      "I0000 00:00:1725993500.712886      67 device_compiler.h:186] Compiled cluster using XLA!  This line is logged at most once for the lifetime of the process.\n"
     ]
    },
    {
     "name": "stdout",
     "output_type": "stream",
     "text": [
      "175/175 [==============================] - 7s 8ms/step - loss: 0.4838 - binary_accuracy: 0.7740 - val_loss: 0.4323 - val_binary_accuracy: 0.8098\n",
      "Epoch 2/200\n",
      "175/175 [==============================] - 1s 7ms/step - loss: 0.4231 - binary_accuracy: 0.8018 - val_loss: 0.4036 - val_binary_accuracy: 0.8138\n",
      "Epoch 3/200\n",
      "175/175 [==============================] - 1s 7ms/step - loss: 0.4087 - binary_accuracy: 0.8093 - val_loss: 0.3965 - val_binary_accuracy: 0.8165\n",
      "Epoch 4/200\n",
      "175/175 [==============================] - 1s 7ms/step - loss: 0.4029 - binary_accuracy: 0.8116 - val_loss: 0.3907 - val_binary_accuracy: 0.8208\n",
      "Epoch 5/200\n",
      "175/175 [==============================] - 1s 7ms/step - loss: 0.3983 - binary_accuracy: 0.8150 - val_loss: 0.3875 - val_binary_accuracy: 0.8221\n",
      "Epoch 6/200\n",
      "175/175 [==============================] - 1s 7ms/step - loss: 0.3935 - binary_accuracy: 0.8178 - val_loss: 0.3843 - val_binary_accuracy: 0.8236\n",
      "Epoch 7/200\n",
      "175/175 [==============================] - 1s 7ms/step - loss: 0.3881 - binary_accuracy: 0.8190 - val_loss: 0.3795 - val_binary_accuracy: 0.8248\n",
      "Epoch 8/200\n",
      "175/175 [==============================] - 1s 7ms/step - loss: 0.3868 - binary_accuracy: 0.8207 - val_loss: 0.3801 - val_binary_accuracy: 0.8244\n",
      "Epoch 9/200\n",
      "175/175 [==============================] - 1s 7ms/step - loss: 0.3824 - binary_accuracy: 0.8229 - val_loss: 0.3757 - val_binary_accuracy: 0.8294\n",
      "Epoch 10/200\n",
      "175/175 [==============================] - 1s 6ms/step - loss: 0.3797 - binary_accuracy: 0.8238 - val_loss: 0.3753 - val_binary_accuracy: 0.8309\n",
      "Epoch 11/200\n",
      "175/175 [==============================] - 1s 7ms/step - loss: 0.3782 - binary_accuracy: 0.8248 - val_loss: 0.3689 - val_binary_accuracy: 0.8318\n",
      "Epoch 12/200\n",
      "175/175 [==============================] - 1s 7ms/step - loss: 0.3757 - binary_accuracy: 0.8259 - val_loss: 0.3686 - val_binary_accuracy: 0.8307\n",
      "Epoch 13/200\n",
      "175/175 [==============================] - 1s 6ms/step - loss: 0.3733 - binary_accuracy: 0.8273 - val_loss: 0.3693 - val_binary_accuracy: 0.8306\n",
      "Epoch 14/200\n",
      "175/175 [==============================] - 1s 6ms/step - loss: 0.3711 - binary_accuracy: 0.8285 - val_loss: 0.3665 - val_binary_accuracy: 0.8330\n",
      "Epoch 15/200\n",
      "175/175 [==============================] - 1s 6ms/step - loss: 0.3690 - binary_accuracy: 0.8301 - val_loss: 0.3684 - val_binary_accuracy: 0.8311\n",
      "Epoch 16/200\n",
      "175/175 [==============================] - 1s 6ms/step - loss: 0.3676 - binary_accuracy: 0.8290 - val_loss: 0.3610 - val_binary_accuracy: 0.8357\n",
      "Epoch 17/200\n",
      "175/175 [==============================] - 1s 7ms/step - loss: 0.3651 - binary_accuracy: 0.8319 - val_loss: 0.3611 - val_binary_accuracy: 0.8349\n",
      "Epoch 18/200\n",
      "175/175 [==============================] - 1s 6ms/step - loss: 0.3636 - binary_accuracy: 0.8321 - val_loss: 0.3659 - val_binary_accuracy: 0.8327\n",
      "Epoch 19/200\n",
      "175/175 [==============================] - 1s 6ms/step - loss: 0.3631 - binary_accuracy: 0.8326 - val_loss: 0.3596 - val_binary_accuracy: 0.8360\n",
      "Epoch 20/200\n",
      "175/175 [==============================] - 1s 7ms/step - loss: 0.3612 - binary_accuracy: 0.8326 - val_loss: 0.3567 - val_binary_accuracy: 0.8366\n",
      "Epoch 21/200\n",
      "175/175 [==============================] - 1s 6ms/step - loss: 0.3587 - binary_accuracy: 0.8341 - val_loss: 0.3607 - val_binary_accuracy: 0.8344\n",
      "Epoch 22/200\n",
      "175/175 [==============================] - 1s 6ms/step - loss: 0.3569 - binary_accuracy: 0.8346 - val_loss: 0.3557 - val_binary_accuracy: 0.8395\n",
      "Epoch 23/200\n",
      "175/175 [==============================] - 1s 7ms/step - loss: 0.3563 - binary_accuracy: 0.8352 - val_loss: 0.3592 - val_binary_accuracy: 0.8353\n",
      "Epoch 24/200\n",
      "175/175 [==============================] - 1s 6ms/step - loss: 0.3560 - binary_accuracy: 0.8348 - val_loss: 0.3552 - val_binary_accuracy: 0.8380\n",
      "Epoch 25/200\n",
      "175/175 [==============================] - 1s 6ms/step - loss: 0.3535 - binary_accuracy: 0.8367 - val_loss: 0.3588 - val_binary_accuracy: 0.8368\n",
      "Epoch 26/200\n",
      "175/175 [==============================] - 1s 7ms/step - loss: 0.3522 - binary_accuracy: 0.8377 - val_loss: 0.3559 - val_binary_accuracy: 0.8372\n",
      "Epoch 27/200\n",
      "175/175 [==============================] - 1s 6ms/step - loss: 0.3519 - binary_accuracy: 0.8378 - val_loss: 0.3542 - val_binary_accuracy: 0.8378\n",
      "Epoch 28/200\n",
      "175/175 [==============================] - 1s 6ms/step - loss: 0.3512 - binary_accuracy: 0.8375 - val_loss: 0.3543 - val_binary_accuracy: 0.8394\n",
      "Epoch 29/200\n",
      "175/175 [==============================] - 1s 6ms/step - loss: 0.3505 - binary_accuracy: 0.8378 - val_loss: 0.3527 - val_binary_accuracy: 0.8387\n",
      "Epoch 30/200\n",
      "175/175 [==============================] - 1s 6ms/step - loss: 0.3487 - binary_accuracy: 0.8379 - val_loss: 0.3517 - val_binary_accuracy: 0.8390\n",
      "Epoch 31/200\n",
      "175/175 [==============================] - 1s 6ms/step - loss: 0.3481 - binary_accuracy: 0.8391 - val_loss: 0.3535 - val_binary_accuracy: 0.8386\n",
      "Epoch 32/200\n",
      "175/175 [==============================] - 1s 6ms/step - loss: 0.3467 - binary_accuracy: 0.8401 - val_loss: 0.3515 - val_binary_accuracy: 0.8390\n",
      "Epoch 33/200\n",
      "175/175 [==============================] - 1s 6ms/step - loss: 0.3450 - binary_accuracy: 0.8403 - val_loss: 0.3516 - val_binary_accuracy: 0.8389\n",
      "Epoch 34/200\n",
      "175/175 [==============================] - 1s 7ms/step - loss: 0.3441 - binary_accuracy: 0.8412 - val_loss: 0.3525 - val_binary_accuracy: 0.8401\n",
      "Epoch 35/200\n",
      "175/175 [==============================] - 1s 6ms/step - loss: 0.3434 - binary_accuracy: 0.8414 - val_loss: 0.3499 - val_binary_accuracy: 0.8401\n",
      "Epoch 36/200\n",
      "175/175 [==============================] - 1s 6ms/step - loss: 0.3434 - binary_accuracy: 0.8415 - val_loss: 0.3489 - val_binary_accuracy: 0.8408\n",
      "Epoch 37/200\n",
      "175/175 [==============================] - 1s 6ms/step - loss: 0.3432 - binary_accuracy: 0.8415 - val_loss: 0.3530 - val_binary_accuracy: 0.8399\n",
      "Epoch 38/200\n",
      "175/175 [==============================] - 1s 6ms/step - loss: 0.3412 - binary_accuracy: 0.8419 - val_loss: 0.3490 - val_binary_accuracy: 0.8412\n",
      "Epoch 39/200\n",
      "175/175 [==============================] - 1s 7ms/step - loss: 0.3401 - binary_accuracy: 0.8428 - val_loss: 0.3509 - val_binary_accuracy: 0.8391\n",
      "Epoch 40/200\n",
      "175/175 [==============================] - 1s 7ms/step - loss: 0.3404 - binary_accuracy: 0.8421 - val_loss: 0.3489 - val_binary_accuracy: 0.8398\n"
     ]
    },
    {
     "data": {
      "text/plain": [
       "<Axes: title={'center': 'Accuracy'}>"
      ]
     },
     "execution_count": 6,
     "metadata": {},
     "output_type": "execute_result"
    },
    {
     "data": {
      "image/png": "[encoded data removed]",
      "text/plain": [
       "<Figure size 640x480 with 1 Axes>"
      ]
     },
     "metadata": {},
     "output_type": "display_data"
    },
    {
     "data": {
      "image/png": "[encoded data removed]",
      "text/plain": [
       "<Figure size 640x480 with 1 Axes>"
      ]
     },
     "metadata": {},
     "output_type": "display_data"
    }
   ],
   "source": [
    "early_stopping = keras.callbacks.EarlyStopping(\n",
    "    patience=5,\n",
    "    min_delta=0.001,\n",
    "    restore_best_weights=True,\n",
    ")\n",
    "history = model.fit(\n",
    "    X_train, y_train,\n",
    "    validation_data=(X_valid, y_valid),\n",
    "    batch_size=512,\n",
    "    epochs=200,\n",
    "    callbacks=[early_stopping],\n",
    ")\n",
    "\n",
    "history_df = pd.DataFrame(history.history)\n",
    "history_df.loc[:, ['loss', 'val_loss']].plot(title=\"Cross-entropy\")\n",
    "history_df.loc[:, ['binary_accuracy', 'val_binary_accuracy']].plot(title=\"Accuracy\")"
   ]
  },
  {
   "cell_type": "markdown",
   "id": "b98ee44f",
   "metadata": {
    "papermill": {
     "duration": 0.07975,
     "end_time": "2024-09-10T18:39:09.349433",
     "exception": false,
     "start_time": "2024-09-10T18:39:09.269683",
     "status": "completed"
    },
    "tags": []
   },
   "source": [
    "# 3) Train and Evaluate #\n",
    "\n",
    "\n",
    "What do you think about the learning curves? Does it look like the model underfit or overfit? Was the cross-entropy loss a good stand-in for accuracy?"
   ]
  },
  {
   "cell_type": "code",
   "execution_count": 7,
   "id": "f43d004a",
   "metadata": {
    "execution": {
     "iopub.execute_input": "2024-09-10T18:39:09.509007Z",
     "iopub.status.busy": "2024-09-10T18:39:09.508612Z",
     "iopub.status.idle": "2024-09-10T18:39:09.517285Z",
     "shell.execute_reply": "2024-09-10T18:39:09.516341Z"
    },
    "papermill": {
     "duration": 0.091925,
     "end_time": "2024-09-10T18:39:09.519772",
     "exception": false,
     "start_time": "2024-09-10T18:39:09.427847",
     "status": "completed"
    },
    "tags": []
   },
   "outputs": [
    {
     "data": {
      "application/javascript": [
       "parent.postMessage({\"jupyterEvent\": \"custom.exercise_interaction\", \"data\": {\"outcomeType\": 1, \"valueTowardsCompletion\": 0.3333333333333333, \"interactionType\": 1, \"questionType\": 4, \"questionId\": \"3_Q3\", \"learnToolsVersion\": \"0.3.4\", \"failureMessage\": \"\", \"exceptionClass\": \"\", \"trace\": \"\"}}, \"*\")"
      ],
      "text/plain": [
       "<IPython.core.display.Javascript object>"
      ]
     },
     "metadata": {},
     "output_type": "display_data"
    },
    {
     "data": {
      "text/markdown": [
       "<span style=\"color:#33cc33\">Correct:</span> \n",
       "\n",
       "Though we can see the training loss continuing to fall, the early stopping callback prevented any overfitting. Moreover, the accuracy rose at the same rate as the cross-entropy fell, so it appears that minimizing cross-entropy was a good stand-in. All in all, it looks like this training was a success!"
      ],
      "text/plain": [
       "Correct: \n",
       "\n",
       "Though we can see the training loss continuing to fall, the early stopping callback prevented any overfitting. Moreover, the accuracy rose at the same rate as the cross-entropy fell, so it appears that minimizing cross-entropy was a good stand-in. All in all, it looks like this training was a success!"
      ]
     },
     "metadata": {},
     "output_type": "display_data"
    }
   ],
   "source": [
    "# View the solution (Run this cell to receive credit!)\n",
    "''' Early stopping stopped the model form overfitting and accuracy increased at the same rate as the cross-entropy decreased.\n",
    "    Decreasing cross-entropy was good.'''\n",
    "q_3.check()"
   ]
  },
  {
   "cell_type": "markdown",
   "id": "5f6ccb14",
   "metadata": {
    "papermill": {
     "duration": 0.079275,
     "end_time": "2024-09-10T18:39:09.681060",
     "exception": false,
     "start_time": "2024-09-10T18:39:09.601785",
     "status": "completed"
    },
    "tags": []
   },
   "source": [
    "# Conclusion #\n",
    "\n",
    "Congratulations! You've completed Kaggle's *Introduction to Deep Learning* course!\n",
    "\n",
    "With your new skills you're ready to take on more advanced applications like computer vision and sentiment classification. What would you like to do next?\n",
    "\n",
    "Why not try one of our *Getting Started* competitions?\n",
    "\n",
    "- Classify images with TPUs in [**Petals to the Metal**](https://www.kaggle.com/c/tpu-getting-started)\n",
    "- Create art with GANs in [**I'm Something of a Painter Myself**](https://www.kaggle.com/c/gan-getting-started)\n",
    "- Classify Tweets in [**Real or Not? NLP with Disaster Tweets**](https://www.kaggle.com/c/nlp-getting-started)\n",
    "- Detect contradiction and entailment in [**Contradictory, My Dear Watson**](https://www.kaggle.com/c/contradictory-my-dear-watson)\n",
    "\n",
    "Until next time, Kagglers!"
   ]
  },
  {
   "cell_type": "markdown",
   "id": "a2999734",
   "metadata": {
    "papermill": {
     "duration": 0.078539,
     "end_time": "2024-09-10T18:39:09.897191",
     "exception": false,
     "start_time": "2024-09-10T18:39:09.818652",
     "status": "completed"
    },
    "tags": []
   },
   "source": [
    "---\n",
    "\n",
    "\n",
    "\n",
    "\n",
    "*Have questions or comments? Visit the [course discussion forum](https://www.kaggle.com/learn/intro-to-deep-learning/discussion) to chat with other learners.*"
   ]
  }
 ],
 "metadata": {
  "jupytext": {
   "cell_metadata_filter": "-all",
   "formats": "ipynb"
  },
  "kaggle": {
   "accelerator": "gpu",
   "dataSources": [
    {
     "datasetId": 829369,
     "sourceId": 1480608,
     "sourceType": "datasetVersion"
    }
   ],
   "dockerImageVersionId": 30648,
   "isGpuEnabled": true,
   "isInternetEnabled": false,
   "language": "python",
   "sourceType": "notebook"
  },
  "kernelspec": {
   "display_name": "Python 3",
   "language": "python",
   "name": "python3"
  },
  "language_info": {
   "codemirror_mode": {
    "name": "ipython",
    "version": 3
   },
   "file_extension": ".py",
   "mimetype": "text/x-python",
   "name": "python",
   "nbconvert_exporter": "python",
   "pygments_lexer": "ipython3",
   "version": "3.10.13"
  },
  "papermill": {
   "default_parameters": {},
   "duration": 78.372461,
   "end_time": "2024-09-10T18:39:12.548069",
   "environment_variables": {},
   "exception": null,
   "input_path": "__notebook__.ipynb",
   "output_path": "__notebook__.ipynb",
   "parameters": {},
   "start_time": "2024-09-10T18:37:54.175608",
   "version": "2.5.0"
  }
 },
 "nbformat": 4,
 "nbformat_minor": 5
}
