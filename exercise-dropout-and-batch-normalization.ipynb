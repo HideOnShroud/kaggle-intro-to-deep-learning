{
 "cells": [
  {
   "cell_type": "markdown",
   "id": "d66cee0a",
   "metadata": {
    "papermill": {
     "duration": 0.006747,
     "end_time": "2024-09-10T18:20:55.795451",
     "exception": false,
     "start_time": "2024-09-10T18:20:55.788704",
     "status": "completed"
    },
    "tags": []
   },
   "source": [
    "**This notebook is an exercise in the [Intro to Deep Learning](https://www.kaggle.com/learn/intro-to-deep-learning) course.  You can reference the tutorial at [this link](https://www.kaggle.com/ryanholbrook/dropout-and-batch-normalization).**\n",
    "\n",
    "---\n"
   ]
  },
  {
   "cell_type": "markdown",
   "id": "fb38f430",
   "metadata": {
    "papermill": {
     "duration": 0.005963,
     "end_time": "2024-09-10T18:20:55.807676",
     "exception": false,
     "start_time": "2024-09-10T18:20:55.801713",
     "status": "completed"
    },
    "tags": []
   },
   "source": [
    "# Introduction #\n",
    "\n",
    "In this exercise, you'll add dropout to the *Spotify* model from Exercise 4 and see how batch normalization can let you successfully train models on difficult datasets.\n",
    "\n",
    "Run the next cell to get started!"
   ]
  },
  {
   "cell_type": "code",
   "execution_count": 1,
   "id": "f7c91331",
   "metadata": {
    "execution": {
     "iopub.execute_input": "2024-09-10T18:20:55.821629Z",
     "iopub.status.busy": "2024-09-10T18:20:55.821233Z",
     "iopub.status.idle": "2024-09-10T18:20:56.623518Z",
     "shell.execute_reply": "2024-09-10T18:20:56.622754Z"
    },
    "papermill": {
     "duration": 0.811992,
     "end_time": "2024-09-10T18:20:56.625808",
     "exception": false,
     "start_time": "2024-09-10T18:20:55.813816",
     "status": "completed"
    },
    "tags": []
   },
   "outputs": [
    {
     "name": "stderr",
     "output_type": "stream",
     "text": [
      "/tmp/ipykernel_26/195640296.py:3: MatplotlibDeprecationWarning: The seaborn styles shipped by Matplotlib are deprecated since 3.6, as they no longer correspond to the styles shipped by seaborn. However, they will remain available as 'seaborn-v0_8-<style>'. Alternatively, directly use the seaborn API instead.\n",
      "  plt.style.use('seaborn-whitegrid')\n"
     ]
    }
   ],
   "source": [
    "# Setup plotting\n",
    "import matplotlib.pyplot as plt\n",
    "plt.style.use('seaborn-whitegrid')\n",
    "# Set Matplotlib defaults\n",
    "plt.rc('figure', autolayout=True)\n",
    "plt.rc('axes', labelweight='bold', labelsize='large',\n",
    "       titleweight='bold', titlesize=18, titlepad=10)\n",
    "plt.rc('animation', html='html5')\n",
    "\n",
    "# Setup feedback system\n",
    "from learntools.core import binder\n",
    "binder.bind(globals())\n",
    "from learntools.deep_learning_intro.ex5 import *"
   ]
  },
  {
   "cell_type": "markdown",
   "id": "2e40322c",
   "metadata": {
    "papermill": {
     "duration": 0.00611,
     "end_time": "2024-09-10T18:20:56.638435",
     "exception": false,
     "start_time": "2024-09-10T18:20:56.632325",
     "status": "completed"
    },
    "tags": []
   },
   "source": [
    "First load the *Spotify* dataset."
   ]
  },
  {
   "cell_type": "code",
   "execution_count": 2,
   "id": "c81c2021",
   "metadata": {
    "execution": {
     "iopub.execute_input": "2024-09-10T18:20:56.652280Z",
     "iopub.status.busy": "2024-09-10T18:20:56.651874Z",
     "iopub.status.idle": "2024-09-10T18:21:10.721825Z",
     "shell.execute_reply": "2024-09-10T18:21:10.720791Z"
    },
    "papermill": {
     "duration": 14.079409,
     "end_time": "2024-09-10T18:21:10.724161",
     "exception": false,
     "start_time": "2024-09-10T18:20:56.644752",
     "status": "completed"
    },
    "tags": []
   },
   "outputs": [
    {
     "name": "stderr",
     "output_type": "stream",
     "text": [
      "2024-09-10 18:20:59.593917: E external/local_xla/xla/stream_executor/cuda/cuda_dnn.cc:9261] Unable to register cuDNN factory: Attempting to register factory for plugin cuDNN when one has already been registered\n",
      "2024-09-10 18:20:59.594016: E external/local_xla/xla/stream_executor/cuda/cuda_fft.cc:607] Unable to register cuFFT factory: Attempting to register factory for plugin cuFFT when one has already been registered\n",
      "2024-09-10 18:20:59.741128: E external/local_xla/xla/stream_executor/cuda/cuda_blas.cc:1515] Unable to register cuBLAS factory: Attempting to register factory for plugin cuBLAS when one has already been registered\n"
     ]
    },
    {
     "name": "stdout",
     "output_type": "stream",
     "text": [
      "Input shape: [18]\n"
     ]
    }
   ],
   "source": [
    "import pandas as pd\n",
    "from sklearn.preprocessing import StandardScaler, OneHotEncoder\n",
    "from sklearn.compose import make_column_transformer\n",
    "from sklearn.model_selection import GroupShuffleSplit\n",
    "\n",
    "from tensorflow import keras\n",
    "from tensorflow.keras import layers\n",
    "from tensorflow.keras import callbacks\n",
    "\n",
    "spotify = pd.read_csv('../input/dl-course-data/spotify.csv')\n",
    "\n",
    "X = spotify.copy().dropna()\n",
    "y = X.pop('track_popularity')\n",
    "artists = X['track_artist']\n",
    "\n",
    "features_num = ['danceability', 'energy', 'key', 'loudness', 'mode',\n",
    "                'speechiness', 'acousticness', 'instrumentalness',\n",
    "                'liveness', 'valence', 'tempo', 'duration_ms']\n",
    "features_cat = ['playlist_genre']\n",
    "\n",
    "preprocessor = make_column_transformer(\n",
    "    (StandardScaler(), features_num),\n",
    "    (OneHotEncoder(), features_cat),\n",
    ")\n",
    "\n",
    "def group_split(X, y, group, train_size=0.75):\n",
    "    splitter = GroupShuffleSplit(train_size=train_size)\n",
    "    train, test = next(splitter.split(X, y, groups=group))\n",
    "    return (X.iloc[train], X.iloc[test], y.iloc[train], y.iloc[test])\n",
    "\n",
    "X_train, X_valid, y_train, y_valid = group_split(X, y, artists)\n",
    "\n",
    "X_train = preprocessor.fit_transform(X_train)\n",
    "X_valid = preprocessor.transform(X_valid)\n",
    "y_train = y_train / 100\n",
    "y_valid = y_valid / 100\n",
    "\n",
    "input_shape = [X_train.shape[1]]\n",
    "print(\"Input shape: {}\".format(input_shape))"
   ]
  },
  {
   "cell_type": "markdown",
   "id": "ad84914e",
   "metadata": {
    "papermill": {
     "duration": 0.011043,
     "end_time": "2024-09-10T18:21:10.742010",
     "exception": false,
     "start_time": "2024-09-10T18:21:10.730967",
     "status": "completed"
    },
    "tags": []
   },
   "source": [
    "# 1) Add Dropout to Spotify Model\n",
    "\n",
    "Here is the last model from Exercise 4. Add two dropout layers, one after the `Dense` layer with 128 units, and one after the `Dense` layer with 64 units. Set the dropout rate on both to `0.3`."
   ]
  },
  {
   "cell_type": "code",
   "execution_count": 3,
   "id": "00ef416c",
   "metadata": {
    "execution": {
     "iopub.execute_input": "2024-09-10T18:21:10.757134Z",
     "iopub.status.busy": "2024-09-10T18:21:10.756752Z",
     "iopub.status.idle": "2024-09-10T18:21:11.531418Z",
     "shell.execute_reply": "2024-09-10T18:21:11.530501Z"
    },
    "lines_to_next_cell": 2,
    "papermill": {
     "duration": 0.78433,
     "end_time": "2024-09-10T18:21:11.533490",
     "exception": false,
     "start_time": "2024-09-10T18:21:10.749160",
     "status": "completed"
    },
    "tags": []
   },
   "outputs": [
    {
     "data": {
      "application/javascript": [
       "parent.postMessage({\"jupyterEvent\": \"custom.exercise_interaction\", \"data\": {\"outcomeType\": 1, \"valueTowardsCompletion\": 0.25, \"interactionType\": 1, \"questionType\": 2, \"questionId\": \"1_Q1\", \"learnToolsVersion\": \"0.3.4\", \"failureMessage\": \"\", \"exceptionClass\": \"\", \"trace\": \"\"}}, \"*\")"
      ],
      "text/plain": [
       "<IPython.core.display.Javascript object>"
      ]
     },
     "metadata": {},
     "output_type": "display_data"
    },
    {
     "data": {
      "text/markdown": [
       "<span style=\"color:#33cc33\">Correct</span>"
      ],
      "text/plain": [
       "Correct"
      ]
     },
     "metadata": {},
     "output_type": "display_data"
    }
   ],
   "source": [
    "# YOUR CODE HERE: Add two 30% dropout layers, one after 128 and one after 64\n",
    "model = keras.Sequential([\n",
    "    layers.Dense(128, activation='relu', input_shape=input_shape),\n",
    "    layers.Dropout(0.3),\n",
    "    layers.Dense(64, activation='relu'),\n",
    "    layers.Dropout(0.3),\n",
    "    layers.Dense(1)\n",
    "])\n",
    "\n",
    "# Check your answer\n",
    "q_1.check()"
   ]
  },
  {
   "cell_type": "code",
   "execution_count": 4,
   "id": "a2b1c00a",
   "metadata": {
    "execution": {
     "iopub.execute_input": "2024-09-10T18:21:11.548677Z",
     "iopub.status.busy": "2024-09-10T18:21:11.548039Z",
     "iopub.status.idle": "2024-09-10T18:21:11.551836Z",
     "shell.execute_reply": "2024-09-10T18:21:11.551010Z"
    },
    "papermill": {
     "duration": 0.01334,
     "end_time": "2024-09-10T18:21:11.553720",
     "exception": false,
     "start_time": "2024-09-10T18:21:11.540380",
     "status": "completed"
    },
    "tags": []
   },
   "outputs": [],
   "source": [
    "# Lines below will give you a hint or solution code\n",
    "#q_1.hint()\n",
    "#q_1.solution()"
   ]
  },
  {
   "cell_type": "markdown",
   "id": "a75233a9",
   "metadata": {
    "papermill": {
     "duration": 0.006492,
     "end_time": "2024-09-10T18:21:11.566941",
     "exception": false,
     "start_time": "2024-09-10T18:21:11.560449",
     "status": "completed"
    },
    "tags": []
   },
   "source": [
    "Now run this next cell to train the model see the effect of adding dropout."
   ]
  },
  {
   "cell_type": "code",
   "execution_count": 5,
   "id": "a7ec4296",
   "metadata": {
    "execution": {
     "iopub.execute_input": "2024-09-10T18:21:11.582636Z",
     "iopub.status.busy": "2024-09-10T18:21:11.582044Z",
     "iopub.status.idle": "2024-09-10T18:21:23.010912Z",
     "shell.execute_reply": "2024-09-10T18:21:23.010043Z"
    },
    "papermill": {
     "duration": 11.439543,
     "end_time": "2024-09-10T18:21:23.013209",
     "exception": false,
     "start_time": "2024-09-10T18:21:11.573666",
     "status": "completed"
    },
    "tags": []
   },
   "outputs": [
    {
     "name": "stderr",
     "output_type": "stream",
     "text": [
      "WARNING: All log messages before absl::InitializeLog() is called are written to STDERR\n",
      "I0000 00:00:1725992474.110807      69 device_compiler.h:186] Compiled cluster using XLA!  This line is logged at most once for the lifetime of the process.\n"
     ]
    },
    {
     "name": "stdout",
     "output_type": "stream",
     "text": [
      "Minimum Validation Loss: 0.1944\n"
     ]
    },
    {
     "data": {
      "image/png": "[encoded data removed]",
      "text/plain": [
       "<Figure size 640x480 with 1 Axes>"
      ]
     },
     "metadata": {},
     "output_type": "display_data"
    }
   ],
   "source": [
    "model.compile(\n",
    "    optimizer='adam',\n",
    "    loss='mae',\n",
    ")\n",
    "history = model.fit(\n",
    "    X_train, y_train,\n",
    "    validation_data=(X_valid, y_valid),\n",
    "    batch_size=512,\n",
    "    epochs=50,\n",
    "    verbose=0,\n",
    ")\n",
    "history_df = pd.DataFrame(history.history)\n",
    "history_df.loc[:, ['loss', 'val_loss']].plot()\n",
    "print(\"Minimum Validation Loss: {:0.4f}\".format(history_df['val_loss'].min()))"
   ]
  },
  {
   "cell_type": "markdown",
   "id": "135819b9",
   "metadata": {
    "papermill": {
     "duration": 0.007057,
     "end_time": "2024-09-10T18:21:23.027861",
     "exception": false,
     "start_time": "2024-09-10T18:21:23.020804",
     "status": "completed"
    },
    "tags": []
   },
   "source": [
    "# 2) Evaluate Dropout\n",
    "\n",
    "Recall from Exercise 4 that this model tended to overfit the data around epoch 5. Did adding dropout seem to help prevent overfitting this time?"
   ]
  },
  {
   "cell_type": "code",
   "execution_count": 6,
   "id": "0fd1659f",
   "metadata": {
    "execution": {
     "iopub.execute_input": "2024-09-10T18:21:23.044020Z",
     "iopub.status.busy": "2024-09-10T18:21:23.043334Z",
     "iopub.status.idle": "2024-09-10T18:21:23.051103Z",
     "shell.execute_reply": "2024-09-10T18:21:23.050254Z"
    },
    "papermill": {
     "duration": 0.017952,
     "end_time": "2024-09-10T18:21:23.053062",
     "exception": false,
     "start_time": "2024-09-10T18:21:23.035110",
     "status": "completed"
    },
    "tags": []
   },
   "outputs": [
    {
     "data": {
      "application/javascript": [
       "parent.postMessage({\"jupyterEvent\": \"custom.exercise_interaction\", \"data\": {\"outcomeType\": 1, \"valueTowardsCompletion\": 0.25, \"interactionType\": 1, \"questionType\": 4, \"questionId\": \"2_Q2\", \"learnToolsVersion\": \"0.3.4\", \"failureMessage\": \"\", \"exceptionClass\": \"\", \"trace\": \"\"}}, \"*\")"
      ],
      "text/plain": [
       "<IPython.core.display.Javascript object>"
      ]
     },
     "metadata": {},
     "output_type": "display_data"
    },
    {
     "data": {
      "text/markdown": [
       "<span style=\"color:#33cc33\">Correct:</span> \n",
       "\n",
       "\n",
       "From the learning curves, you can see that the validation loss remains near a constant minimum even though the training loss continues to decrease. So we can see that adding dropout did prevent overfitting this time. Moreover, by making it harder for the network to fit spurious patterns, dropout may have encouraged the network to seek out more of the true patterns, possibly improving the validation loss some as well).\n"
      ],
      "text/plain": [
       "Correct: \n",
       "\n",
       "\n",
       "From the learning curves, you can see that the validation loss remains near a constant minimum even though the training loss continues to decrease. So we can see that adding dropout did prevent overfitting this time. Moreover, by making it harder for the network to fit spurious patterns, dropout may have encouraged the network to seek out more of the true patterns, possibly improving the validation loss some as well)."
      ]
     },
     "metadata": {},
     "output_type": "display_data"
    }
   ],
   "source": [
    "# View the solution (Run this cell to receive credit!)\n",
    "'''Yes, it worked. Model should have picked up more accurate patterns.'''\n",
    "q_2.check()"
   ]
  },
  {
   "cell_type": "markdown",
   "id": "5142e968",
   "metadata": {
    "papermill": {
     "duration": 0.007293,
     "end_time": "2024-09-10T18:21:23.067906",
     "exception": false,
     "start_time": "2024-09-10T18:21:23.060613",
     "status": "completed"
    },
    "tags": []
   },
   "source": [
    "Now, we'll switch topics to explore how batch normalization can fix problems in training.\n",
    "\n",
    "Load the *Concrete* dataset. We won't do any standardization this time. This will make the effect of batch normalization much more apparent."
   ]
  },
  {
   "cell_type": "code",
   "execution_count": 7,
   "id": "823c0a22",
   "metadata": {
    "execution": {
     "iopub.execute_input": "2024-09-10T18:21:23.084529Z",
     "iopub.status.busy": "2024-09-10T18:21:23.083958Z",
     "iopub.status.idle": "2024-09-10T18:21:23.103167Z",
     "shell.execute_reply": "2024-09-10T18:21:23.102473Z"
    },
    "papermill": {
     "duration": 0.029714,
     "end_time": "2024-09-10T18:21:23.105222",
     "exception": false,
     "start_time": "2024-09-10T18:21:23.075508",
     "status": "completed"
    },
    "tags": []
   },
   "outputs": [],
   "source": [
    "import pandas as pd\n",
    "\n",
    "concrete = pd.read_csv('../input/dl-course-data/concrete.csv')\n",
    "df = concrete.copy()\n",
    "\n",
    "df_train = df.sample(frac=0.7, random_state=0)\n",
    "df_valid = df.drop(df_train.index)\n",
    "\n",
    "X_train = df_train.drop('CompressiveStrength', axis=1)\n",
    "X_valid = df_valid.drop('CompressiveStrength', axis=1)\n",
    "y_train = df_train['CompressiveStrength']\n",
    "y_valid = df_valid['CompressiveStrength']\n",
    "\n",
    "input_shape = [X_train.shape[1]]"
   ]
  },
  {
   "cell_type": "markdown",
   "id": "2fec6149",
   "metadata": {
    "papermill": {
     "duration": 0.007448,
     "end_time": "2024-09-10T18:21:23.120524",
     "exception": false,
     "start_time": "2024-09-10T18:21:23.113076",
     "status": "completed"
    },
    "tags": []
   },
   "source": [
    "Run the following cell to train the network on the unstandardized *Concrete* data."
   ]
  },
  {
   "cell_type": "code",
   "execution_count": 8,
   "id": "0677181b",
   "metadata": {
    "execution": {
     "iopub.execute_input": "2024-09-10T18:21:23.137982Z",
     "iopub.status.busy": "2024-09-10T18:21:23.137278Z",
     "iopub.status.idle": "2024-09-10T18:21:30.463789Z",
     "shell.execute_reply": "2024-09-10T18:21:30.462892Z"
    },
    "papermill": {
     "duration": 7.337533,
     "end_time": "2024-09-10T18:21:30.465903",
     "exception": false,
     "start_time": "2024-09-10T18:21:23.128370",
     "status": "completed"
    },
    "tags": []
   },
   "outputs": [
    {
     "name": "stdout",
     "output_type": "stream",
     "text": [
      "Minimum Validation Loss: nan\n"
     ]
    },
    {
     "data": {
      "image/png": "[encoded data removed]",
      "text/plain": [
       "<Figure size 640x480 with 1 Axes>"
      ]
     },
     "metadata": {},
     "output_type": "display_data"
    }
   ],
   "source": [
    "model = keras.Sequential([\n",
    "    layers.Dense(512, activation='relu', input_shape=input_shape),\n",
    "    layers.Dense(512, activation='relu'),    \n",
    "    layers.Dense(512, activation='relu'),\n",
    "    layers.Dense(1),\n",
    "])\n",
    "model.compile(\n",
    "    optimizer='sgd', # SGD is more sensitive to differences of scale\n",
    "    loss='mae',\n",
    "    metrics=['mae'],\n",
    ")\n",
    "history = model.fit(\n",
    "    X_train, y_train,\n",
    "    validation_data=(X_valid, y_valid),\n",
    "    batch_size=64,\n",
    "    epochs=100,\n",
    "    verbose=0,\n",
    ")\n",
    "\n",
    "history_df = pd.DataFrame(history.history)\n",
    "history_df.loc[0:, ['loss', 'val_loss']].plot()\n",
    "print((\"Minimum Validation Loss: {:0.4f}\").format(history_df['val_loss'].min()))"
   ]
  },
  {
   "cell_type": "markdown",
   "id": "65385062",
   "metadata": {
    "papermill": {
     "duration": 0.007832,
     "end_time": "2024-09-10T18:21:30.481941",
     "exception": false,
     "start_time": "2024-09-10T18:21:30.474109",
     "status": "completed"
    },
    "tags": []
   },
   "source": [
    "Did you end up with a blank graph? Trying to train this network on this dataset will usually fail. Even when it does converge (due to a lucky weight initialization), it tends to converge to a very large number.\n",
    "\n",
    "# 3) Add Batch Normalization Layers\n",
    "\n",
    "Batch normalization can help correct problems like this.\n",
    "\n",
    "Add four `BatchNormalization` layers, one before each of the dense layers. (Remember to move the `input_shape` argument to the new first layer.)"
   ]
  },
  {
   "cell_type": "code",
   "execution_count": 9,
   "id": "48e73430",
   "metadata": {
    "execution": {
     "iopub.execute_input": "2024-09-10T18:21:30.499123Z",
     "iopub.status.busy": "2024-09-10T18:21:30.498821Z",
     "iopub.status.idle": "2024-09-10T18:21:30.523563Z",
     "shell.execute_reply": "2024-09-10T18:21:30.522650Z"
    },
    "lines_to_next_cell": 0,
    "papermill": {
     "duration": 0.03551,
     "end_time": "2024-09-10T18:21:30.525449",
     "exception": false,
     "start_time": "2024-09-10T18:21:30.489939",
     "status": "completed"
    },
    "tags": []
   },
   "outputs": [
    {
     "data": {
      "application/javascript": [
       "parent.postMessage({\"jupyterEvent\": \"custom.exercise_interaction\", \"data\": {\"outcomeType\": 1, \"valueTowardsCompletion\": 0.25, \"interactionType\": 1, \"questionType\": 2, \"questionId\": \"3_Q3\", \"learnToolsVersion\": \"0.3.4\", \"failureMessage\": \"\", \"exceptionClass\": \"\", \"trace\": \"\"}}, \"*\")"
      ],
      "text/plain": [
       "<IPython.core.display.Javascript object>"
      ]
     },
     "metadata": {},
     "output_type": "display_data"
    },
    {
     "data": {
      "text/markdown": [
       "<span style=\"color:#33cc33\">Correct</span>"
      ],
      "text/plain": [
       "Correct"
      ]
     },
     "metadata": {},
     "output_type": "display_data"
    }
   ],
   "source": [
    "# YOUR CODE HERE: Add a BatchNormalization layer before each Dense layer\n",
    "model = keras.Sequential([\n",
    "    layers.BatchNormalization(),\n",
    "    layers.Dense(512, activation='relu', input_shape=input_shape),\n",
    "    layers.BatchNormalization(),\n",
    "    layers.Dense(512, activation='relu'),\n",
    "    layers.BatchNormalization(),\n",
    "    layers.Dense(512, activation='relu'),\n",
    "    layers.BatchNormalization(),\n",
    "    layers.Dense(1),\n",
    "])\n",
    "\n",
    "# Check your answer\n",
    "q_3.check()"
   ]
  },
  {
   "cell_type": "code",
   "execution_count": 10,
   "id": "42bbca90",
   "metadata": {
    "execution": {
     "iopub.execute_input": "2024-09-10T18:21:30.543546Z",
     "iopub.status.busy": "2024-09-10T18:21:30.543241Z",
     "iopub.status.idle": "2024-09-10T18:21:30.547168Z",
     "shell.execute_reply": "2024-09-10T18:21:30.546281Z"
    },
    "papermill": {
     "duration": 0.01524,
     "end_time": "2024-09-10T18:21:30.548983",
     "exception": false,
     "start_time": "2024-09-10T18:21:30.533743",
     "status": "completed"
    },
    "tags": []
   },
   "outputs": [],
   "source": [
    "# Lines below will give you a hint or solution code\n",
    "#q_3.hint()\n",
    "#q_3.solution()"
   ]
  },
  {
   "cell_type": "markdown",
   "id": "f72edb47",
   "metadata": {
    "papermill": {
     "duration": 0.008023,
     "end_time": "2024-09-10T18:21:30.565289",
     "exception": false,
     "start_time": "2024-09-10T18:21:30.557266",
     "status": "completed"
    },
    "tags": []
   },
   "source": [
    "Run the next cell to see if batch normalization will let us train the model."
   ]
  },
  {
   "cell_type": "code",
   "execution_count": 11,
   "id": "238fa307",
   "metadata": {
    "execution": {
     "iopub.execute_input": "2024-09-10T18:21:30.583214Z",
     "iopub.status.busy": "2024-09-10T18:21:30.582529Z",
     "iopub.status.idle": "2024-09-10T18:21:42.138947Z",
     "shell.execute_reply": "2024-09-10T18:21:42.137998Z"
    },
    "papermill": {
     "duration": 11.567535,
     "end_time": "2024-09-10T18:21:42.140945",
     "exception": false,
     "start_time": "2024-09-10T18:21:30.573410",
     "status": "completed"
    },
    "tags": []
   },
   "outputs": [
    {
     "name": "stdout",
     "output_type": "stream",
     "text": [
      "Minimum Validation Loss: 3.9307\n"
     ]
    },
    {
     "data": {
      "image/png": "[encoded data removed]",
      "text/plain": [
       "<Figure size 640x480 with 1 Axes>"
      ]
     },
     "metadata": {},
     "output_type": "display_data"
    }
   ],
   "source": [
    "model.compile(\n",
    "    optimizer='sgd',\n",
    "    loss='mae',\n",
    "    metrics=['mae'],\n",
    ")\n",
    "EPOCHS = 100\n",
    "history = model.fit(\n",
    "    X_train, y_train,\n",
    "    validation_data=(X_valid, y_valid),\n",
    "    batch_size=64,\n",
    "    epochs=EPOCHS,\n",
    "    verbose=0,\n",
    ")\n",
    "\n",
    "history_df = pd.DataFrame(history.history)\n",
    "history_df.loc[0:, ['loss', 'val_loss']].plot()\n",
    "print((\"Minimum Validation Loss: {:0.4f}\").format(history_df['val_loss'].min()))"
   ]
  },
  {
   "cell_type": "markdown",
   "id": "435a750a",
   "metadata": {
    "papermill": {
     "duration": 0.008557,
     "end_time": "2024-09-10T18:21:42.158651",
     "exception": false,
     "start_time": "2024-09-10T18:21:42.150094",
     "status": "completed"
    },
    "tags": []
   },
   "source": [
    "# 4) Evaluate Batch Normalization\n",
    "\n",
    "Did adding batch normalization help?"
   ]
  },
  {
   "cell_type": "code",
   "execution_count": 12,
   "id": "232426ad",
   "metadata": {
    "execution": {
     "iopub.execute_input": "2024-09-10T18:21:42.177496Z",
     "iopub.status.busy": "2024-09-10T18:21:42.177172Z",
     "iopub.status.idle": "2024-09-10T18:21:42.184483Z",
     "shell.execute_reply": "2024-09-10T18:21:42.183653Z"
    },
    "lines_to_next_cell": 0,
    "papermill": {
     "duration": 0.018941,
     "end_time": "2024-09-10T18:21:42.186417",
     "exception": false,
     "start_time": "2024-09-10T18:21:42.167476",
     "status": "completed"
    },
    "tags": []
   },
   "outputs": [
    {
     "data": {
      "application/javascript": [
       "parent.postMessage({\"jupyterEvent\": \"custom.exercise_interaction\", \"data\": {\"outcomeType\": 1, \"valueTowardsCompletion\": 0.25, \"interactionType\": 1, \"questionType\": 4, \"questionId\": \"4_Q4\", \"learnToolsVersion\": \"0.3.4\", \"failureMessage\": \"\", \"exceptionClass\": \"\", \"trace\": \"\"}}, \"*\")"
      ],
      "text/plain": [
       "<IPython.core.display.Javascript object>"
      ]
     },
     "metadata": {},
     "output_type": "display_data"
    },
    {
     "data": {
      "text/markdown": [
       "<span style=\"color:#33cc33\">Correct:</span> \n",
       "\n",
       "\n",
       "You can see that adding batch normalization was a big improvement on the first attempt! By adaptively scaling the data as it passes through the network, batch normalization can let you train models on difficult datasets.\n"
      ],
      "text/plain": [
       "Correct: \n",
       "\n",
       "\n",
       "You can see that adding batch normalization was a big improvement on the first attempt! By adaptively scaling the data as it passes through the network, batch normalization can let you train models on difficult datasets."
      ]
     },
     "metadata": {},
     "output_type": "display_data"
    }
   ],
   "source": [
    "# View the solution (Run this cell to receive credit!)\n",
    "'''Yes, it did help.'''\n",
    "q_4.check()"
   ]
  },
  {
   "cell_type": "markdown",
   "id": "516a6096",
   "metadata": {
    "papermill": {
     "duration": 0.008892,
     "end_time": "2024-09-10T18:21:42.204453",
     "exception": false,
     "start_time": "2024-09-10T18:21:42.195561",
     "status": "completed"
    },
    "tags": []
   },
   "source": [
    "# Keep Going #\n",
    "\n",
    "[**Create neural networks**](https://www.kaggle.com/ryanholbrook/binary-classification) for binary classification."
   ]
  },
  {
   "cell_type": "markdown",
   "id": "b116f7d7",
   "metadata": {
    "papermill": {
     "duration": 0.008813,
     "end_time": "2024-09-10T18:21:42.222428",
     "exception": false,
     "start_time": "2024-09-10T18:21:42.213615",
     "status": "completed"
    },
    "tags": []
   },
   "source": [
    "---\n",
    "\n",
    "\n",
    "\n",
    "\n",
    "*Have questions or comments? Visit the [course discussion forum](https://www.kaggle.com/learn/intro-to-deep-learning/discussion) to chat with other learners.*"
   ]
  }
 ],
 "metadata": {
  "jupytext": {
   "cell_metadata_filter": "-all",
   "formats": "ipynb"
  },
  "kaggle": {
   "accelerator": "gpu",
   "dataSources": [
    {
     "datasetId": 829369,
     "sourceId": 1480608,
     "sourceType": "datasetVersion"
    }
   ],
   "dockerImageVersionId": 30648,
   "isGpuEnabled": true,
   "isInternetEnabled": false,
   "language": "python",
   "sourceType": "notebook"
  },
  "kernelspec": {
   "display_name": "Python 3",
   "language": "python",
   "name": "python3"
  },
  "language_info": {
   "codemirror_mode": {
    "name": "ipython",
    "version": 3
   },
   "file_extension": ".py",
   "mimetype": "text/x-python",
   "name": "python",
   "nbconvert_exporter": "python",
   "pygments_lexer": "ipython3",
   "version": "3.10.13"
  },
  "papermill": {
   "default_parameters": {},
   "duration": 52.226945,
   "end_time": "2024-09-10T18:21:45.214913",
   "environment_variables": {},
   "exception": null,
   "input_path": "__notebook__.ipynb",
   "output_path": "__notebook__.ipynb",
   "parameters": {},
   "start_time": "2024-09-10T18:20:52.987968",
   "version": "2.5.0"
  }
 },
 "nbformat": 4,
 "nbformat_minor": 5
}
