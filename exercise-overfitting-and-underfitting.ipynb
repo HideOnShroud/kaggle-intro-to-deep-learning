{
 "cells": [
  {
   "cell_type": "markdown",
   "id": "92c10b70",
   "metadata": {
    "papermill": {
     "duration": 0.006548,
     "end_time": "2024-09-10T18:05:10.396971",
     "exception": false,
     "start_time": "2024-09-10T18:05:10.390423",
     "status": "completed"
    },
    "tags": []
   },
   "source": [
    "### **This notebook is an exercise in the [Intro to Deep Learning](https://www.kaggle.com/learn/intro-to-deep-learning) course.  You can reference the tutorial at [this link](https://www.kaggle.com/ryanholbrook/overfitting-and-underfitting).**\n",
    "\n",
    "---\n"
   ]
  },
  {
   "cell_type": "markdown",
   "id": "fd1763b8",
   "metadata": {
    "papermill": {
     "duration": 0.00562,
     "end_time": "2024-09-10T18:05:10.408583",
     "exception": false,
     "start_time": "2024-09-10T18:05:10.402963",
     "status": "completed"
    },
    "tags": []
   },
   "source": [
    "# Introduction #\n",
    "\n",
    "In this exercise, you’ll learn how to improve training outcomes by including an early stopping callback to prevent overfitting.\n",
    "\n",
    "When you're ready, run this next cell to set everything up!"
   ]
  },
  {
   "cell_type": "code",
   "execution_count": 1,
   "id": "62372c4b",
   "metadata": {
    "execution": {
     "iopub.execute_input": "2024-09-10T18:05:10.422209Z",
     "iopub.status.busy": "2024-09-10T18:05:10.421506Z",
     "iopub.status.idle": "2024-09-10T18:05:11.204618Z",
     "shell.execute_reply": "2024-09-10T18:05:11.203837Z"
    },
    "papermill": {
     "duration": 0.792397,
     "end_time": "2024-09-10T18:05:11.206914",
     "exception": false,
     "start_time": "2024-09-10T18:05:10.414517",
     "status": "completed"
    },
    "tags": []
   },
   "outputs": [
    {
     "name": "stderr",
     "output_type": "stream",
     "text": [
      "/tmp/ipykernel_28/1500229236.py:3: MatplotlibDeprecationWarning: The seaborn styles shipped by Matplotlib are deprecated since 3.6, as they no longer correspond to the styles shipped by seaborn. However, they will remain available as 'seaborn-v0_8-<style>'. Alternatively, directly use the seaborn API instead.\n",
      "  plt.style.use('seaborn-whitegrid')\n"
     ]
    }
   ],
   "source": [
    "# Setup plotting\n",
    "import matplotlib.pyplot as plt\n",
    "plt.style.use('seaborn-whitegrid')\n",
    "# Set Matplotlib defaults\n",
    "plt.rc('figure', autolayout=True)\n",
    "plt.rc('axes', labelweight='bold', labelsize='large',\n",
    "       titleweight='bold', titlesize=18, titlepad=10)\n",
    "plt.rc('animation', html='html5')\n",
    "\n",
    "# Setup feedback system\n",
    "from learntools.core import binder\n",
    "binder.bind(globals())\n",
    "from learntools.deep_learning_intro.ex4 import *"
   ]
  },
  {
   "cell_type": "markdown",
   "id": "4a05e917",
   "metadata": {
    "papermill": {
     "duration": 0.005912,
     "end_time": "2024-09-10T18:05:11.219083",
     "exception": false,
     "start_time": "2024-09-10T18:05:11.213171",
     "status": "completed"
    },
    "tags": []
   },
   "source": [
    "First load the *Spotify* dataset. Your task will be to predict the popularity of a song based on various audio features, like `'tempo'`, `'danceability'`, and `'mode'`."
   ]
  },
  {
   "cell_type": "code",
   "execution_count": 2,
   "id": "37ba8d10",
   "metadata": {
    "execution": {
     "iopub.execute_input": "2024-09-10T18:05:11.232228Z",
     "iopub.status.busy": "2024-09-10T18:05:11.231802Z",
     "iopub.status.idle": "2024-09-10T18:05:25.274054Z",
     "shell.execute_reply": "2024-09-10T18:05:25.273073Z"
    },
    "papermill": {
     "duration": 14.051436,
     "end_time": "2024-09-10T18:05:25.276386",
     "exception": false,
     "start_time": "2024-09-10T18:05:11.224950",
     "status": "completed"
    },
    "tags": []
   },
   "outputs": [
    {
     "name": "stderr",
     "output_type": "stream",
     "text": [
      "2024-09-10 18:05:14.144200: E external/local_xla/xla/stream_executor/cuda/cuda_dnn.cc:9261] Unable to register cuDNN factory: Attempting to register factory for plugin cuDNN when one has already been registered\n",
      "2024-09-10 18:05:14.144302: E external/local_xla/xla/stream_executor/cuda/cuda_fft.cc:607] Unable to register cuFFT factory: Attempting to register factory for plugin cuFFT when one has already been registered\n",
      "2024-09-10 18:05:14.284890: E external/local_xla/xla/stream_executor/cuda/cuda_blas.cc:1515] Unable to register cuBLAS factory: Attempting to register factory for plugin cuBLAS when one has already been registered\n"
     ]
    },
    {
     "name": "stdout",
     "output_type": "stream",
     "text": [
      "Input shape: [18]\n"
     ]
    }
   ],
   "source": [
    "import pandas as pd\n",
    "from sklearn.preprocessing import StandardScaler, OneHotEncoder\n",
    "from sklearn.compose import make_column_transformer\n",
    "from sklearn.model_selection import GroupShuffleSplit\n",
    "\n",
    "from tensorflow import keras\n",
    "from tensorflow.keras import layers\n",
    "from tensorflow.keras import callbacks\n",
    "\n",
    "spotify = pd.read_csv('../input/dl-course-data/spotify.csv')\n",
    "\n",
    "X = spotify.copy().dropna()\n",
    "y = X.pop('track_popularity')\n",
    "artists = X['track_artist']\n",
    "\n",
    "features_num = ['danceability', 'energy', 'key', 'loudness', 'mode',\n",
    "                \\\n",
    "                'speechiness', 'acousticness', 'instrumentalness',\n",
    "                'liveness', 'valence', 'tempo', 'duration_ms']\n",
    "features_cat = ['playlist_genre']\n",
    "\n",
    "preprocessor = make_column_transformer(\n",
    "    (StandardScaler(), features_num),\n",
    "    (OneHotEncoder(), features_cat),\n",
    ")\n",
    "\n",
    "# We'll do a \"grouped\" split to keep all of an artist's songs in one\n",
    "# split or the other. This is to help prevent signal leakage.\n",
    "def group_split(X, y, group, train_size=0.75):\n",
    "    splitter = GroupShuffleSplit(train_size=train_size)\n",
    "    train, test = next(splitter.split(X, y, groups=group))\n",
    "    return (X.iloc[train], X.iloc[test], y.iloc[train], y.iloc[test])\n",
    "\n",
    "\n",
    "\n",
    "\\\n",
    "\n",
    "X_train, X_valid, y_train, y_valid = group_split(X, y, artists)\n",
    "\n",
    "X_train = preprocessor.fit_transform(X_train)\n",
    "X_valid = preprocessor.transform(X_valid)\n",
    "y_train = y_train / 100 # popularity is on a scale 0-100, so this rescales to 0-1.\n",
    "y_valid = y_valid / 100\n",
    "\n",
    "input_shape = [X_train.shape[1]]\n",
    "print(\"Input shape: {}\".format(input_shape))"
   ]
  },
  {
   "cell_type": "markdown",
   "id": "40518d42",
   "metadata": {
    "papermill": {
     "duration": 0.006196,
     "end_time": "2024-09-10T18:05:25.289602",
     "exception": false,
     "start_time": "2024-09-10T18:05:25.283406",
     "status": "completed"
    },
    "tags": []
   },
   "source": [
    "Let's start with the simplest network, a linear model. This model has low capacity.\n",
    "\n",
    "Run this next cell without any changes to train a linear model on the *Spotify* dataset."
   ]
  },
  {
   "cell_type": "code",
   "execution_count": 3,
   "id": "08afa0d4",
   "metadata": {
    "execution": {
     "iopub.execute_input": "2024-09-10T18:05:25.304009Z",
     "iopub.status.busy": "2024-09-10T18:05:25.303694Z",
     "iopub.status.idle": "2024-09-10T18:05:34.288435Z",
     "shell.execute_reply": "2024-09-10T18:05:34.287492Z"
    },
    "lines_to_next_cell": 0,
    "papermill": {
     "duration": 8.994692,
     "end_time": "2024-09-10T18:05:34.290512",
     "exception": false,
     "start_time": "2024-09-10T18:05:25.295820",
     "status": "completed"
    },
    "tags": []
   },
   "outputs": [
    {
     "name": "stderr",
     "output_type": "stream",
     "text": [
      "WARNING: All log messages before absl::InitializeLog() is called are written to STDERR\n",
      "I0000 00:00:1725991527.230850      71 device_compiler.h:186] Compiled cluster using XLA!  This line is logged at most once for the lifetime of the process.\n"
     ]
    },
    {
     "name": "stdout",
     "output_type": "stream",
     "text": [
      "Minimum Validation Loss: 0.1975\n"
     ]
    },
    {
     "data": {
      "image/png": "[encoded data removed]",
      "text/plain": [
       "<Figure size 640x480 with 1 Axes>"
      ]
     },
     "metadata": {},
     "output_type": "display_data"
    }
   ],
   "source": [
    "model = keras.Sequential([\n",
    "    layers.Dense(1, input_shape=input_shape),\n",
    "])\n",
    "model.compile(\n",
    "    optimizer='adam',\n",
    "    loss='mae',\n",
    ")\n",
    "history = model.fit(\n",
    "    X_train, y_train,\n",
    "    validation_data=(X_valid, y_valid),\n",
    "    batch_size=512,\n",
    "    epochs=50,\n",
    "    verbose=0, # suppress output since we'll plot the curves\n",
    ")\n",
    "history_df = pd.DataFrame(history.history)\n",
    "history_df.loc[0:, ['loss', 'val_loss']].plot()\n",
    "print(\"Minimum Validation Loss: {:0.4f}\".format(history_df['val_loss'].min()));"
   ]
  },
  {
   "cell_type": "markdown",
   "id": "df4eab07",
   "metadata": {
    "papermill": {
     "duration": 0.006525,
     "end_time": "2024-09-10T18:05:34.303964",
     "exception": false,
     "start_time": "2024-09-10T18:05:34.297439",
     "status": "completed"
    },
    "tags": []
   },
   "source": [
    "It's not uncommon for the curves to follow a \"hockey stick\" pattern like you see here. This makes the final part of training hard to see, so let's start at epoch 10 instead:"
   ]
  },
  {
   "cell_type": "code",
   "execution_count": 4,
   "id": "5097eada",
   "metadata": {
    "execution": {
     "iopub.execute_input": "2024-09-10T18:05:34.318846Z",
     "iopub.status.busy": "2024-09-10T18:05:34.318242Z",
     "iopub.status.idle": "2024-09-10T18:05:34.697707Z",
     "shell.execute_reply": "2024-09-10T18:05:34.696861Z"
    },
    "papermill": {
     "duration": 0.389428,
     "end_time": "2024-09-10T18:05:34.700104",
     "exception": false,
     "start_time": "2024-09-10T18:05:34.310676",
     "status": "completed"
    },
    "tags": []
   },
   "outputs": [
    {
     "name": "stdout",
     "output_type": "stream",
     "text": [
      "Minimum Validation Loss: 0.1975\n"
     ]
    },
    {
     "data": {
      "image/png": "[encoded data removed]",
      "text/plain": [
       "<Figure size 640x480 with 1 Axes>"
      ]
     },
     "metadata": {},
     "output_type": "display_data"
    }
   ],
   "source": [
    "# Start the plot at epoch 10\n",
    "history_df.loc[10:, ['loss', 'val_loss']].plot()\n",
    "print(\"Minimum Validation Loss: {:0.4f}\".format(history_df['val_loss'].min()));"
   ]
  },
  {
   "cell_type": "markdown",
   "id": "2488f00c",
   "metadata": {
    "papermill": {
     "duration": 0.008253,
     "end_time": "2024-09-10T18:05:34.716201",
     "exception": false,
     "start_time": "2024-09-10T18:05:34.707948",
     "status": "completed"
    },
    "tags": []
   },
   "source": [
    "# 1) Evaluate Baseline\n",
    "\n",
    "What do you think? Would you say this model is underfitting, overfitting, just right?"
   ]
  },
  {
   "cell_type": "code",
   "execution_count": 5,
   "id": "4dde4cac",
   "metadata": {
    "execution": {
     "iopub.execute_input": "2024-09-10T18:05:34.732353Z",
     "iopub.status.busy": "2024-09-10T18:05:34.731779Z",
     "iopub.status.idle": "2024-09-10T18:05:34.739865Z",
     "shell.execute_reply": "2024-09-10T18:05:34.739077Z"
    },
    "papermill": {
     "duration": 0.018321,
     "end_time": "2024-09-10T18:05:34.741761",
     "exception": false,
     "start_time": "2024-09-10T18:05:34.723440",
     "status": "completed"
    },
    "tags": []
   },
   "outputs": [
    {
     "data": {
      "application/javascript": [
       "parent.postMessage({\"jupyterEvent\": \"custom.exercise_interaction\", \"data\": {\"outcomeType\": 1, \"valueTowardsCompletion\": 0.25, \"interactionType\": 1, \"questionType\": 4, \"questionId\": \"1_Q1\", \"learnToolsVersion\": \"0.3.4\", \"failureMessage\": \"\", \"exceptionClass\": \"\", \"trace\": \"\"}}, \"*\")"
      ],
      "text/plain": [
       "<IPython.core.display.Javascript object>"
      ]
     },
     "metadata": {},
     "output_type": "display_data"
    },
    {
     "data": {
      "text/markdown": [
       "<span style=\"color:#33cc33\">Correct:</span> \n",
       "\n",
       "The gap between these curves is quite small and the validation loss never increases, so it's more likely that the network is underfitting than overfitting. It would be worth experimenting with more capacity to see if that's the case."
      ],
      "text/plain": [
       "Correct: \n",
       "\n",
       "The gap between these curves is quite small and the validation loss never increases, so it's more likely that the network is underfitting than overfitting. It would be worth experimenting with more capacity to see if that's the case."
      ]
     },
     "metadata": {},
     "output_type": "display_data"
    }
   ],
   "source": [
    "# View the solution (Run this cell to receive credit!)\n",
    "'''The gap between loss and val_loss is small, and it doesn't increase. So the model is most likely not overfitting. It's probably underfitting.\n",
    "We should try adding more layers.'''\n",
    "q_1.check()"
   ]
  },
  {
   "cell_type": "markdown",
   "id": "fd221023",
   "metadata": {
    "papermill": {
     "duration": 0.007383,
     "end_time": "2024-09-10T18:05:34.757001",
     "exception": false,
     "start_time": "2024-09-10T18:05:34.749618",
     "status": "completed"
    },
    "tags": []
   },
   "source": [
    "Now let's add some capacity to our network. We'll add three hidden layers with 128 units each. Run the next cell to train the network and see the learning curves."
   ]
  },
  {
   "cell_type": "code",
   "execution_count": 6,
   "id": "0c649304",
   "metadata": {
    "execution": {
     "iopub.execute_input": "2024-09-10T18:05:34.773147Z",
     "iopub.status.busy": "2024-09-10T18:05:34.772842Z",
     "iopub.status.idle": "2024-09-10T18:05:45.078131Z",
     "shell.execute_reply": "2024-09-10T18:05:45.077216Z"
    },
    "papermill": {
     "duration": 10.316049,
     "end_time": "2024-09-10T18:05:45.080535",
     "exception": false,
     "start_time": "2024-09-10T18:05:34.764486",
     "status": "completed"
    },
    "tags": []
   },
   "outputs": [
    {
     "name": "stdout",
     "output_type": "stream",
     "text": [
      "Epoch 1/50\n",
      "48/48 [==============================] - 2s 6ms/step - loss: 0.2243 - val_loss: 0.2075\n",
      "Epoch 2/50\n",
      "48/48 [==============================] - 0s 4ms/step - loss: 0.1994 - val_loss: 0.2031\n",
      "Epoch 3/50\n",
      "48/48 [==============================] - 0s 4ms/step - loss: 0.1950 - val_loss: 0.2007\n",
      "Epoch 4/50\n",
      "48/48 [==============================] - 0s 4ms/step - loss: 0.1918 - val_loss: 0.2004\n",
      "Epoch 5/50\n",
      "48/48 [==============================] - 0s 4ms/step - loss: 0.1898 - val_loss: 0.1996\n",
      "Epoch 6/50\n",
      "48/48 [==============================] - 0s 3ms/step - loss: 0.1886 - val_loss: 0.2001\n",
      "Epoch 7/50\n",
      "48/48 [==============================] - 0s 3ms/step - loss: 0.1873 - val_loss: 0.1994\n",
      "Epoch 8/50\n",
      "48/48 [==============================] - 0s 3ms/step - loss: 0.1862 - val_loss: 0.2003\n",
      "Epoch 9/50\n",
      "48/48 [==============================] - 0s 4ms/step - loss: 0.1854 - val_loss: 0.2007\n",
      "Epoch 10/50\n",
      "48/48 [==============================] - 0s 3ms/step - loss: 0.1842 - val_loss: 0.1995\n",
      "Epoch 11/50\n",
      "48/48 [==============================] - 0s 3ms/step - loss: 0.1837 - val_loss: 0.2004\n",
      "Epoch 12/50\n",
      "48/48 [==============================] - 0s 3ms/step - loss: 0.1830 - val_loss: 0.1995\n",
      "Epoch 13/50\n",
      "48/48 [==============================] - 0s 3ms/step - loss: 0.1827 - val_loss: 0.1994\n",
      "Epoch 14/50\n",
      "48/48 [==============================] - 0s 3ms/step - loss: 0.1812 - val_loss: 0.1990\n",
      "Epoch 15/50\n",
      "48/48 [==============================] - 0s 4ms/step - loss: 0.1806 - val_loss: 0.1998\n",
      "Epoch 16/50\n",
      "48/48 [==============================] - 0s 4ms/step - loss: 0.1806 - val_loss: 0.1989\n",
      "Epoch 17/50\n",
      "48/48 [==============================] - 0s 3ms/step - loss: 0.1792 - val_loss: 0.1990\n",
      "Epoch 18/50\n",
      "48/48 [==============================] - 0s 3ms/step - loss: 0.1792 - val_loss: 0.2012\n",
      "Epoch 19/50\n",
      "48/48 [==============================] - 0s 3ms/step - loss: 0.1789 - val_loss: 0.2004\n",
      "Epoch 20/50\n",
      "48/48 [==============================] - 0s 3ms/step - loss: 0.1788 - val_loss: 0.2005\n",
      "Epoch 21/50\n",
      "48/48 [==============================] - 0s 4ms/step - loss: 0.1771 - val_loss: 0.1998\n",
      "Epoch 22/50\n",
      "48/48 [==============================] - 0s 4ms/step - loss: 0.1778 - val_loss: 0.2002\n",
      "Epoch 23/50\n",
      "48/48 [==============================] - 0s 3ms/step - loss: 0.1759 - val_loss: 0.2015\n",
      "Epoch 24/50\n",
      "48/48 [==============================] - 0s 3ms/step - loss: 0.1757 - val_loss: 0.2011\n",
      "Epoch 25/50\n",
      "48/48 [==============================] - 0s 4ms/step - loss: 0.1749 - val_loss: 0.2015\n",
      "Epoch 26/50\n",
      "48/48 [==============================] - 0s 3ms/step - loss: 0.1754 - val_loss: 0.2014\n",
      "Epoch 27/50\n",
      "48/48 [==============================] - 0s 3ms/step - loss: 0.1742 - val_loss: 0.2015\n",
      "Epoch 28/50\n",
      "48/48 [==============================] - 0s 3ms/step - loss: 0.1739 - val_loss: 0.2015\n",
      "Epoch 29/50\n",
      "48/48 [==============================] - 0s 3ms/step - loss: 0.1739 - val_loss: 0.2034\n",
      "Epoch 30/50\n",
      "48/48 [==============================] - 0s 3ms/step - loss: 0.1729 - val_loss: 0.2023\n",
      "Epoch 31/50\n",
      "48/48 [==============================] - 0s 3ms/step - loss: 0.1730 - val_loss: 0.2027\n",
      "Epoch 32/50\n",
      "48/48 [==============================] - 0s 3ms/step - loss: 0.1722 - val_loss: 0.2022\n",
      "Epoch 33/50\n",
      "48/48 [==============================] - 0s 3ms/step - loss: 0.1712 - val_loss: 0.2018\n",
      "Epoch 34/50\n",
      "48/48 [==============================] - 0s 3ms/step - loss: 0.1713 - val_loss: 0.2029\n",
      "Epoch 35/50\n",
      "48/48 [==============================] - 0s 3ms/step - loss: 0.1705 - val_loss: 0.2018\n",
      "Epoch 36/50\n",
      "48/48 [==============================] - 0s 3ms/step - loss: 0.1704 - val_loss: 0.2032\n",
      "Epoch 37/50\n",
      "48/48 [==============================] - 0s 4ms/step - loss: 0.1699 - val_loss: 0.2025\n",
      "Epoch 38/50\n",
      "48/48 [==============================] - 0s 3ms/step - loss: 0.1685 - val_loss: 0.2022\n",
      "Epoch 39/50\n",
      "48/48 [==============================] - 0s 3ms/step - loss: 0.1684 - val_loss: 0.2029\n",
      "Epoch 40/50\n",
      "48/48 [==============================] - 0s 3ms/step - loss: 0.1689 - val_loss: 0.2031\n",
      "Epoch 41/50\n",
      "48/48 [==============================] - 0s 4ms/step - loss: 0.1680 - val_loss: 0.2047\n",
      "Epoch 42/50\n",
      "48/48 [==============================] - 0s 3ms/step - loss: 0.1681 - val_loss: 0.2037\n",
      "Epoch 43/50\n",
      "48/48 [==============================] - 0s 3ms/step - loss: 0.1675 - val_loss: 0.2045\n",
      "Epoch 44/50\n",
      "48/48 [==============================] - 0s 3ms/step - loss: 0.1666 - val_loss: 0.2039\n",
      "Epoch 45/50\n",
      "48/48 [==============================] - 0s 3ms/step - loss: 0.1661 - val_loss: 0.2033\n",
      "Epoch 46/50\n",
      "48/48 [==============================] - 0s 3ms/step - loss: 0.1663 - val_loss: 0.2046\n",
      "Epoch 47/50\n",
      "48/48 [==============================] - 0s 3ms/step - loss: 0.1655 - val_loss: 0.2054\n",
      "Epoch 48/50\n",
      "48/48 [==============================] - 0s 3ms/step - loss: 0.1653 - val_loss: 0.2053\n",
      "Epoch 49/50\n",
      "48/48 [==============================] - 0s 3ms/step - loss: 0.1651 - val_loss: 0.2061\n",
      "Epoch 50/50\n",
      "48/48 [==============================] - 0s 4ms/step - loss: 0.1648 - val_loss: 0.2067\n",
      "Minimum Validation Loss: 0.1989\n"
     ]
    },
    {
     "data": {
      "image/png": "[encoded data removed]",
      "text/plain": [
       "<Figure size 640x480 with 1 Axes>"
      ]
     },
     "metadata": {},
     "output_type": "display_data"
    }
   ],
   "source": [
    "model = keras.Sequential([\n",
    "    layers.Dense(128, activation='relu', input_shape=input_shape),\n",
    "    layers.Dense(64, activation='relu'),\n",
    "    layers.Dense(1)\n",
    "])\n",
    "model.compile(\n",
    "    optimizer='adam',\n",
    "    loss='mae',\n",
    ")\n",
    "history = model.fit(\n",
    "    X_train, y_train,\n",
    "    validation_data=(X_valid, y_valid),\n",
    "    batch_size=512,\n",
    "    epochs=50,\n",
    ")\n",
    "history_df = pd.DataFrame(history.history)\n",
    "history_df.loc[:, ['loss', 'val_loss']].plot()\n",
    "print(\"Minimum Validation Loss: {:0.4f}\".format(history_df['val_loss'].min()));"
   ]
  },
  {
   "cell_type": "markdown",
   "id": "1d911e48",
   "metadata": {
    "papermill": {
     "duration": 0.02772,
     "end_time": "2024-09-10T18:05:45.136416",
     "exception": false,
     "start_time": "2024-09-10T18:05:45.108696",
     "status": "completed"
    },
    "tags": []
   },
   "source": [
    "# 2) Add Capacity\n",
    "\n",
    "What is your evaluation of these curves? Underfitting, overfitting, just right?"
   ]
  },
  {
   "cell_type": "code",
   "execution_count": 7,
   "id": "fa578811",
   "metadata": {
    "execution": {
     "iopub.execute_input": "2024-09-10T18:05:45.193444Z",
     "iopub.status.busy": "2024-09-10T18:05:45.192553Z",
     "iopub.status.idle": "2024-09-10T18:05:45.200402Z",
     "shell.execute_reply": "2024-09-10T18:05:45.199592Z"
    },
    "papermill": {
     "duration": 0.038164,
     "end_time": "2024-09-10T18:05:45.202305",
     "exception": false,
     "start_time": "2024-09-10T18:05:45.164141",
     "status": "completed"
    },
    "tags": []
   },
   "outputs": [
    {
     "data": {
      "application/javascript": [
       "parent.postMessage({\"jupyterEvent\": \"custom.exercise_interaction\", \"data\": {\"outcomeType\": 1, \"valueTowardsCompletion\": 0.25, \"interactionType\": 1, \"questionType\": 4, \"questionId\": \"2_Q2\", \"learnToolsVersion\": \"0.3.4\", \"failureMessage\": \"\", \"exceptionClass\": \"\", \"trace\": \"\"}}, \"*\")"
      ],
      "text/plain": [
       "<IPython.core.display.Javascript object>"
      ]
     },
     "metadata": {},
     "output_type": "display_data"
    },
    {
     "data": {
      "text/markdown": [
       "<span style=\"color:#33cc33\">Correct:</span> \n",
       "\n",
       "Now the validation loss begins to rise very early, while the training loss continues to decrease. This indicates that the network has begun to overfit. At this point, we would need to try something to prevent it, either by reducing the number of units or through a method like early stopping. (We'll see another in the next lesson!)"
      ],
      "text/plain": [
       "Correct: \n",
       "\n",
       "Now the validation loss begins to rise very early, while the training loss continues to decrease. This indicates that the network has begun to overfit. At this point, we would need to try something to prevent it, either by reducing the number of units or through a method like early stopping. (We'll see another in the next lesson!)"
      ]
     },
     "metadata": {},
     "output_type": "display_data"
    }
   ],
   "source": [
    "# View the solution (Run this cell to receive credit!)\n",
    "'''Val_loss is increasing so it's overfitting. We have to adjust our training'''\n",
    "q_2.check()"
   ]
  },
  {
   "cell_type": "markdown",
   "id": "10db2968",
   "metadata": {
    "papermill": {
     "duration": 0.027052,
     "end_time": "2024-09-10T18:05:45.256686",
     "exception": false,
     "start_time": "2024-09-10T18:05:45.229634",
     "status": "completed"
    },
    "tags": []
   },
   "source": [
    "# 3) Define Early Stopping Callback\n",
    "\n",
    "Now define an early stopping callback that waits 5 epochs (`patience'`) for a change in validation loss of at least `0.001` (`min_delta`) and keeps the weights with the best loss (`restore_best_weights`)."
   ]
  },
  {
   "cell_type": "code",
   "execution_count": 8,
   "id": "f50fb645",
   "metadata": {
    "execution": {
     "iopub.execute_input": "2024-09-10T18:05:45.312061Z",
     "iopub.status.busy": "2024-09-10T18:05:45.311780Z",
     "iopub.status.idle": "2024-09-10T18:05:45.316178Z",
     "shell.execute_reply": "2024-09-10T18:05:45.315353Z"
    },
    "lines_to_next_cell": 0,
    "papermill": {
     "duration": 0.03405,
     "end_time": "2024-09-10T18:05:45.317990",
     "exception": false,
     "start_time": "2024-09-10T18:05:45.283940",
     "status": "completed"
    },
    "tags": []
   },
   "outputs": [],
   "source": [
    "from tensorflow.keras import callbacks\n",
    "\n",
    "# YOUR CODE HERE: define an early stopping callback\n",
    "early_stopping = callbacks.EarlyStopping(\n",
    "    patience=5,\n",
    "    min_delta=0.001,\n",
    "    restore_best_weights=True\n",
    ")\n",
    "\n",
    "# Check your answer\n",
    "# q_3.check()"
   ]
  },
  {
   "cell_type": "code",
   "execution_count": 9,
   "id": "5291a4dc",
   "metadata": {
    "execution": {
     "iopub.execute_input": "2024-09-10T18:05:45.374136Z",
     "iopub.status.busy": "2024-09-10T18:05:45.373551Z",
     "iopub.status.idle": "2024-09-10T18:05:45.377263Z",
     "shell.execute_reply": "2024-09-10T18:05:45.376428Z"
    },
    "papermill": {
     "duration": 0.033748,
     "end_time": "2024-09-10T18:05:45.379243",
     "exception": false,
     "start_time": "2024-09-10T18:05:45.345495",
     "status": "completed"
    },
    "tags": []
   },
   "outputs": [],
   "source": [
    "# Lines below will give you a hint or solution code\n",
    "#q_3.hint()\n",
    "#q_3.solution()"
   ]
  },
  {
   "cell_type": "markdown",
   "id": "9f49b140",
   "metadata": {
    "papermill": {
     "duration": 0.027292,
     "end_time": "2024-09-10T18:05:45.433736",
     "exception": false,
     "start_time": "2024-09-10T18:05:45.406444",
     "status": "completed"
    },
    "tags": []
   },
   "source": [
    "Now run this cell to train the model and get the learning curves. Notice the `callbacks` argument in `model.fit`."
   ]
  },
  {
   "cell_type": "code",
   "execution_count": 10,
   "id": "0d7adfc7",
   "metadata": {
    "execution": {
     "iopub.execute_input": "2024-09-10T18:05:45.490343Z",
     "iopub.status.busy": "2024-09-10T18:05:45.489965Z",
     "iopub.status.idle": "2024-09-10T18:05:48.731973Z",
     "shell.execute_reply": "2024-09-10T18:05:48.731066Z"
    },
    "papermill": {
     "duration": 3.272912,
     "end_time": "2024-09-10T18:05:48.734270",
     "exception": false,
     "start_time": "2024-09-10T18:05:45.461358",
     "status": "completed"
    },
    "tags": []
   },
   "outputs": [
    {
     "name": "stdout",
     "output_type": "stream",
     "text": [
      "Epoch 1/50\n",
      "48/48 [==============================] - 1s 6ms/step - loss: 0.2227 - val_loss: 0.2071\n",
      "Epoch 2/50\n",
      "48/48 [==============================] - 0s 4ms/step - loss: 0.1974 - val_loss: 0.2011\n",
      "Epoch 3/50\n",
      "48/48 [==============================] - 0s 3ms/step - loss: 0.1928 - val_loss: 0.1993\n",
      "Epoch 4/50\n",
      "48/48 [==============================] - 0s 3ms/step - loss: 0.1905 - val_loss: 0.1991\n",
      "Epoch 5/50\n",
      "48/48 [==============================] - 0s 3ms/step - loss: 0.1898 - val_loss: 0.1982\n",
      "Epoch 6/50\n",
      "48/48 [==============================] - 0s 3ms/step - loss: 0.1876 - val_loss: 0.1972\n",
      "Epoch 7/50\n",
      "48/48 [==============================] - 0s 3ms/step - loss: 0.1863 - val_loss: 0.1975\n",
      "Epoch 8/50\n",
      "48/48 [==============================] - 0s 3ms/step - loss: 0.1856 - val_loss: 0.1979\n",
      "Epoch 9/50\n",
      "48/48 [==============================] - 0s 3ms/step - loss: 0.1844 - val_loss: 0.1994\n",
      "Epoch 10/50\n",
      "48/48 [==============================] - 0s 3ms/step - loss: 0.1840 - val_loss: 0.1983\n",
      "Epoch 11/50\n",
      "48/48 [==============================] - 0s 4ms/step - loss: 0.1829 - val_loss: 0.1971\n",
      "Minimum Validation Loss: 0.1971\n"
     ]
    },
    {
     "data": {
      "image/png": "[encoded data removed]",
      "text/plain": [
       "<Figure size 640x480 with 1 Axes>"
      ]
     },
     "metadata": {},
     "output_type": "display_data"
    }
   ],
   "source": [
    "model = keras.Sequential([\n",
    "    layers.Dense(128, activation='relu', input_shape=input_shape),\n",
    "    layers.Dense(64, activation='relu'),    \n",
    "    layers.Dense(1)\n",
    "])\n",
    "model.compile(\n",
    "    optimizer='adam',\n",
    "    loss='mae',\n",
    ")\n",
    "history = model.fit(\n",
    "    X_train, y_train,\n",
    "    validation_data=(X_valid, y_valid),\n",
    "    batch_size=512,\n",
    "    epochs=50,\n",
    "    callbacks=[early_stopping]\n",
    ")\n",
    "history_df = pd.DataFrame(history.history)\n",
    "history_df.loc[:, ['loss', 'val_loss']].plot()\n",
    "print(\"Minimum Validation Loss: {:0.4f}\".format(history_df['val_loss'].min()));"
   ]
  },
  {
   "cell_type": "markdown",
   "id": "501d75e5",
   "metadata": {
    "papermill": {
     "duration": 0.033801,
     "end_time": "2024-09-10T18:05:48.801737",
     "exception": false,
     "start_time": "2024-09-10T18:05:48.767936",
     "status": "completed"
    },
    "tags": []
   },
   "source": [
    "# 4) Train and Interpret\n",
    "\n",
    "Was this an improvement compared to training without early stopping?"
   ]
  },
  {
   "cell_type": "code",
   "execution_count": 11,
   "id": "c71ce9d9",
   "metadata": {
    "execution": {
     "iopub.execute_input": "2024-09-10T18:05:48.868518Z",
     "iopub.status.busy": "2024-09-10T18:05:48.867718Z",
     "iopub.status.idle": "2024-09-10T18:05:48.875307Z",
     "shell.execute_reply": "2024-09-10T18:05:48.874431Z"
    },
    "papermill": {
     "duration": 0.043166,
     "end_time": "2024-09-10T18:05:48.877285",
     "exception": false,
     "start_time": "2024-09-10T18:05:48.834119",
     "status": "completed"
    },
    "tags": []
   },
   "outputs": [
    {
     "data": {
      "application/javascript": [
       "parent.postMessage({\"jupyterEvent\": \"custom.exercise_interaction\", \"data\": {\"outcomeType\": 1, \"valueTowardsCompletion\": 0.25, \"interactionType\": 1, \"questionType\": 4, \"questionId\": \"4_Q4\", \"learnToolsVersion\": \"0.3.4\", \"failureMessage\": \"\", \"exceptionClass\": \"\", \"trace\": \"\"}}, \"*\")"
      ],
      "text/plain": [
       "<IPython.core.display.Javascript object>"
      ]
     },
     "metadata": {},
     "output_type": "display_data"
    },
    {
     "data": {
      "text/markdown": [
       "<span style=\"color:#33cc33\">Correct:</span> \n",
       "\n",
       "The early stopping callback did stop the training once the network began overfitting. Moreover, by including `restore_best_weights` we still get to keep the model where validation loss was lowest."
      ],
      "text/plain": [
       "Correct: \n",
       "\n",
       "The early stopping callback did stop the training once the network began overfitting. Moreover, by including `restore_best_weights` we still get to keep the model where validation loss was lowest."
      ]
     },
     "metadata": {},
     "output_type": "display_data"
    }
   ],
   "source": [
    "# View the solution (Run this cell to receive credit!)\n",
    "'''Early stopping stopped the model from overfitting and it kept the model with the lowest validation loss'''\n",
    "q_4.check()"
   ]
  },
  {
   "cell_type": "markdown",
   "id": "010bad17",
   "metadata": {
    "papermill": {
     "duration": 0.032349,
     "end_time": "2024-09-10T18:05:48.941978",
     "exception": false,
     "start_time": "2024-09-10T18:05:48.909629",
     "status": "completed"
    },
    "tags": []
   },
   "source": [
    "If you like, try experimenting with `patience` and `min_delta` to see what difference it might make.\n",
    "\n",
    "# Keep Going #\n",
    "\n",
    "Move on to [**learn about a couple of special layers**](https://www.kaggle.com/ryanholbrook/dropout-and-batch-normalization): batch normalization and dropout."
   ]
  },
  {
   "cell_type": "markdown",
   "id": "813bb2da",
   "metadata": {
    "papermill": {
     "duration": 0.032366,
     "end_time": "2024-09-10T18:05:49.007552",
     "exception": false,
     "start_time": "2024-09-10T18:05:48.975186",
     "status": "completed"
    },
    "tags": []
   },
   "source": [
    "---\n",
    "\n",
    "\n",
    "\n",
    "\n",
    "*Have questions or comments? Visit the [course discussion forum](https://www.kaggle.com/learn/intro-to-deep-learning/discussion) to chat with other learners.*"
   ]
  }
 ],
 "metadata": {
  "jupytext": {
   "cell_metadata_filter": "-all",
   "formats": "ipynb"
  },
  "kaggle": {
   "accelerator": "gpu",
   "dataSources": [
    {
     "datasetId": 829369,
     "sourceId": 1480608,
     "sourceType": "datasetVersion"
    }
   ],
   "dockerImageVersionId": 30648,
   "isGpuEnabled": true,
   "isInternetEnabled": false,
   "language": "python",
   "sourceType": "notebook"
  },
  "kernelspec": {
   "display_name": "Python 3",
   "language": "python",
   "name": "python3"
  },
  "language_info": {
   "codemirror_mode": {
    "name": "ipython",
    "version": 3
   },
   "file_extension": ".py",
   "mimetype": "text/x-python",
   "name": "python",
   "nbconvert_exporter": "python",
   "pygments_lexer": "ipython3",
   "version": "3.10.13"
  },
  "papermill": {
   "default_parameters": {},
   "duration": 44.175869,
   "end_time": "2024-09-10T18:05:51.851477",
   "environment_variables": {},
   "exception": null,
   "input_path": "__notebook__.ipynb",
   "output_path": "__notebook__.ipynb",
   "parameters": {},
   "start_time": "2024-09-10T18:05:07.675608",
   "version": "2.5.0"
  }
 },
 "nbformat": 4,
 "nbformat_minor": 5
}
